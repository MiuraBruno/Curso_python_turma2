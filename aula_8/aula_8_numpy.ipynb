{
 "cells": [
  {
   "cell_type": "code",
   "execution_count": 1,
   "metadata": {},
   "outputs": [],
   "source": [
    "#grande quantidade de dados se assemelha a lista mas tem mais \"poder\"\n",
    "#numpy é escrito em C"
   ]
  },
  {
   "cell_type": "code",
   "execution_count": 2,
   "metadata": {},
   "outputs": [],
   "source": [
    "#https://medium.com/ensina-ai/entendendo-a-biblioteca-numpy-4858fde63355"
   ]
  },
  {
   "cell_type": "markdown",
   "metadata": {},
   "source": [
    "** O NumPy é uma poderosa biblioteca Python que é usada principalmente para realizar cálculos em Arrays Multidimensionais. O NumPy fornece um grande conjunto de funções e operações de biblioteca que ajudam os programadores a executar facilmente cálculos numéricos. Esses tipos de cálculos numéricos são amplamente utilizados em tarefas como**"
   ]
  },
  {
   "cell_type": "markdown",
   "metadata": {},
   "source": [
    "## Modelos de Machine Learning\n",
    "## Processamento de Imagem e Computação Gráfica\n",
    "## Tarefas matemáticas"
   ]
  },
  {
   "cell_type": "markdown",
   "metadata": {},
   "source": [
    "** Instalar a biblioteca caso não tennha\n",
    "** py -m pip install numpy"
   ]
  },
  {
   "cell_type": "code",
   "execution_count": 3,
   "metadata": {},
   "outputs": [],
   "source": [
    "import numpy as np"
   ]
  },
  {
   "cell_type": "code",
   "execution_count": 4,
   "metadata": {},
   "outputs": [],
   "source": [
    "v  = [1,2,3,4]"
   ]
  },
  {
   "cell_type": "code",
   "execution_count": 5,
   "metadata": {},
   "outputs": [],
   "source": [
    "arr = np.array(v)"
   ]
  },
  {
   "cell_type": "code",
   "execution_count": 6,
   "metadata": {},
   "outputs": [
    {
     "data": {
      "text/plain": [
       "numpy.ndarray"
      ]
     },
     "execution_count": 6,
     "metadata": {},
     "output_type": "execute_result"
    }
   ],
   "source": [
    "type(arr)"
   ]
  },
  {
   "cell_type": "code",
   "execution_count": 7,
   "metadata": {},
   "outputs": [
    {
     "data": {
      "text/plain": [
       "['ALLOW_THREADS',\n",
       " 'AxisError',\n",
       " 'BUFSIZE',\n",
       " 'CLIP',\n",
       " 'ComplexWarning',\n",
       " 'DataSource',\n",
       " 'ERR_CALL',\n",
       " 'ERR_DEFAULT',\n",
       " 'ERR_IGNORE',\n",
       " 'ERR_LOG',\n",
       " 'ERR_PRINT',\n",
       " 'ERR_RAISE',\n",
       " 'ERR_WARN',\n",
       " 'FLOATING_POINT_SUPPORT',\n",
       " 'FPE_DIVIDEBYZERO',\n",
       " 'FPE_INVALID',\n",
       " 'FPE_OVERFLOW',\n",
       " 'FPE_UNDERFLOW',\n",
       " 'False_',\n",
       " 'Inf',\n",
       " 'Infinity',\n",
       " 'MAXDIMS',\n",
       " 'MAY_SHARE_BOUNDS',\n",
       " 'MAY_SHARE_EXACT',\n",
       " 'MachAr',\n",
       " 'ModuleDeprecationWarning',\n",
       " 'NAN',\n",
       " 'NINF',\n",
       " 'NZERO',\n",
       " 'NaN',\n",
       " 'PINF',\n",
       " 'PZERO',\n",
       " 'RAISE',\n",
       " 'RankWarning',\n",
       " 'SHIFT_DIVIDEBYZERO',\n",
       " 'SHIFT_INVALID',\n",
       " 'SHIFT_OVERFLOW',\n",
       " 'SHIFT_UNDERFLOW',\n",
       " 'ScalarType',\n",
       " 'Tester',\n",
       " 'TooHardError',\n",
       " 'True_',\n",
       " 'UFUNC_BUFSIZE_DEFAULT',\n",
       " 'UFUNC_PYVALS_NAME',\n",
       " 'VisibleDeprecationWarning',\n",
       " 'WRAP',\n",
       " '_NoValue',\n",
       " '_UFUNC_API',\n",
       " '__NUMPY_SETUP__',\n",
       " '__all__',\n",
       " '__builtins__',\n",
       " '__cached__',\n",
       " '__config__',\n",
       " '__doc__',\n",
       " '__file__',\n",
       " '__git_revision__',\n",
       " '__loader__',\n",
       " '__mkl_version__',\n",
       " '__name__',\n",
       " '__package__',\n",
       " '__path__',\n",
       " '__spec__',\n",
       " '__version__',\n",
       " '_add_newdoc_ufunc',\n",
       " '_distributor_init',\n",
       " '_globals',\n",
       " '_mat',\n",
       " '_pytesttester',\n",
       " 'abs',\n",
       " 'absolute',\n",
       " 'absolute_import',\n",
       " 'add',\n",
       " 'add_docstring',\n",
       " 'add_newdoc',\n",
       " 'add_newdoc_ufunc',\n",
       " 'alen',\n",
       " 'all',\n",
       " 'allclose',\n",
       " 'alltrue',\n",
       " 'amax',\n",
       " 'amin',\n",
       " 'angle',\n",
       " 'any',\n",
       " 'append',\n",
       " 'apply_along_axis',\n",
       " 'apply_over_axes',\n",
       " 'arange',\n",
       " 'arccos',\n",
       " 'arccosh',\n",
       " 'arcsin',\n",
       " 'arcsinh',\n",
       " 'arctan',\n",
       " 'arctan2',\n",
       " 'arctanh',\n",
       " 'argmax',\n",
       " 'argmin',\n",
       " 'argpartition',\n",
       " 'argsort',\n",
       " 'argwhere',\n",
       " 'around',\n",
       " 'array',\n",
       " 'array2string',\n",
       " 'array_equal',\n",
       " 'array_equiv',\n",
       " 'array_repr',\n",
       " 'array_split',\n",
       " 'array_str',\n",
       " 'asanyarray',\n",
       " 'asarray',\n",
       " 'asarray_chkfinite',\n",
       " 'ascontiguousarray',\n",
       " 'asfarray',\n",
       " 'asfortranarray',\n",
       " 'asmatrix',\n",
       " 'asscalar',\n",
       " 'atleast_1d',\n",
       " 'atleast_2d',\n",
       " 'atleast_3d',\n",
       " 'average',\n",
       " 'bartlett',\n",
       " 'base_repr',\n",
       " 'binary_repr',\n",
       " 'bincount',\n",
       " 'bitwise_and',\n",
       " 'bitwise_not',\n",
       " 'bitwise_or',\n",
       " 'bitwise_xor',\n",
       " 'blackman',\n",
       " 'block',\n",
       " 'bmat',\n",
       " 'bool',\n",
       " 'bool8',\n",
       " 'bool_',\n",
       " 'broadcast',\n",
       " 'broadcast_arrays',\n",
       " 'broadcast_to',\n",
       " 'busday_count',\n",
       " 'busday_offset',\n",
       " 'busdaycalendar',\n",
       " 'byte',\n",
       " 'byte_bounds',\n",
       " 'bytes0',\n",
       " 'bytes_',\n",
       " 'c_',\n",
       " 'can_cast',\n",
       " 'cast',\n",
       " 'cbrt',\n",
       " 'cdouble',\n",
       " 'ceil',\n",
       " 'cfloat',\n",
       " 'char',\n",
       " 'character',\n",
       " 'chararray',\n",
       " 'choose',\n",
       " 'clip',\n",
       " 'clongdouble',\n",
       " 'clongfloat',\n",
       " 'column_stack',\n",
       " 'common_type',\n",
       " 'compare_chararrays',\n",
       " 'compat',\n",
       " 'complex',\n",
       " 'complex128',\n",
       " 'complex64',\n",
       " 'complex_',\n",
       " 'complexfloating',\n",
       " 'compress',\n",
       " 'concatenate',\n",
       " 'conj',\n",
       " 'conjugate',\n",
       " 'convolve',\n",
       " 'copy',\n",
       " 'copysign',\n",
       " 'copyto',\n",
       " 'core',\n",
       " 'corrcoef',\n",
       " 'correlate',\n",
       " 'cos',\n",
       " 'cosh',\n",
       " 'count_nonzero',\n",
       " 'cov',\n",
       " 'cross',\n",
       " 'csingle',\n",
       " 'ctypeslib',\n",
       " 'cumprod',\n",
       " 'cumproduct',\n",
       " 'cumsum',\n",
       " 'datetime64',\n",
       " 'datetime_as_string',\n",
       " 'datetime_data',\n",
       " 'deg2rad',\n",
       " 'degrees',\n",
       " 'delete',\n",
       " 'deprecate',\n",
       " 'deprecate_with_doc',\n",
       " 'diag',\n",
       " 'diag_indices',\n",
       " 'diag_indices_from',\n",
       " 'diagflat',\n",
       " 'diagonal',\n",
       " 'diff',\n",
       " 'digitize',\n",
       " 'disp',\n",
       " 'divide',\n",
       " 'division',\n",
       " 'divmod',\n",
       " 'dot',\n",
       " 'double',\n",
       " 'dsplit',\n",
       " 'dstack',\n",
       " 'dtype',\n",
       " 'e',\n",
       " 'ediff1d',\n",
       " 'einsum',\n",
       " 'einsum_path',\n",
       " 'emath',\n",
       " 'empty',\n",
       " 'empty_like',\n",
       " 'equal',\n",
       " 'errstate',\n",
       " 'euler_gamma',\n",
       " 'exp',\n",
       " 'exp2',\n",
       " 'expand_dims',\n",
       " 'expm1',\n",
       " 'extract',\n",
       " 'eye',\n",
       " 'fabs',\n",
       " 'fastCopyAndTranspose',\n",
       " 'fft',\n",
       " 'fill_diagonal',\n",
       " 'find_common_type',\n",
       " 'finfo',\n",
       " 'fix',\n",
       " 'flatiter',\n",
       " 'flatnonzero',\n",
       " 'flexible',\n",
       " 'flip',\n",
       " 'fliplr',\n",
       " 'flipud',\n",
       " 'float',\n",
       " 'float16',\n",
       " 'float32',\n",
       " 'float64',\n",
       " 'float_',\n",
       " 'float_power',\n",
       " 'floating',\n",
       " 'floor',\n",
       " 'floor_divide',\n",
       " 'fmax',\n",
       " 'fmin',\n",
       " 'fmod',\n",
       " 'format_float_positional',\n",
       " 'format_float_scientific',\n",
       " 'format_parser',\n",
       " 'frexp',\n",
       " 'frombuffer',\n",
       " 'fromfile',\n",
       " 'fromfunction',\n",
       " 'fromiter',\n",
       " 'frompyfunc',\n",
       " 'fromregex',\n",
       " 'fromstring',\n",
       " 'full',\n",
       " 'full_like',\n",
       " 'fv',\n",
       " 'gcd',\n",
       " 'generic',\n",
       " 'genfromtxt',\n",
       " 'geomspace',\n",
       " 'get_array_wrap',\n",
       " 'get_include',\n",
       " 'get_printoptions',\n",
       " 'getbufsize',\n",
       " 'geterr',\n",
       " 'geterrcall',\n",
       " 'geterrobj',\n",
       " 'gradient',\n",
       " 'greater',\n",
       " 'greater_equal',\n",
       " 'half',\n",
       " 'hamming',\n",
       " 'hanning',\n",
       " 'heaviside',\n",
       " 'histogram',\n",
       " 'histogram2d',\n",
       " 'histogram_bin_edges',\n",
       " 'histogramdd',\n",
       " 'hsplit',\n",
       " 'hstack',\n",
       " 'hypot',\n",
       " 'i0',\n",
       " 'identity',\n",
       " 'iinfo',\n",
       " 'imag',\n",
       " 'in1d',\n",
       " 'index_exp',\n",
       " 'indices',\n",
       " 'inexact',\n",
       " 'inf',\n",
       " 'info',\n",
       " 'infty',\n",
       " 'inner',\n",
       " 'insert',\n",
       " 'int',\n",
       " 'int0',\n",
       " 'int16',\n",
       " 'int32',\n",
       " 'int64',\n",
       " 'int8',\n",
       " 'int_',\n",
       " 'int_asbuffer',\n",
       " 'intc',\n",
       " 'integer',\n",
       " 'interp',\n",
       " 'intersect1d',\n",
       " 'intp',\n",
       " 'invert',\n",
       " 'ipmt',\n",
       " 'irr',\n",
       " 'is_busday',\n",
       " 'isclose',\n",
       " 'iscomplex',\n",
       " 'iscomplexobj',\n",
       " 'isfinite',\n",
       " 'isfortran',\n",
       " 'isin',\n",
       " 'isinf',\n",
       " 'isnan',\n",
       " 'isnat',\n",
       " 'isneginf',\n",
       " 'isposinf',\n",
       " 'isreal',\n",
       " 'isrealobj',\n",
       " 'isscalar',\n",
       " 'issctype',\n",
       " 'issubclass_',\n",
       " 'issubdtype',\n",
       " 'issubsctype',\n",
       " 'iterable',\n",
       " 'ix_',\n",
       " 'kaiser',\n",
       " 'kron',\n",
       " 'lcm',\n",
       " 'ldexp',\n",
       " 'left_shift',\n",
       " 'less',\n",
       " 'less_equal',\n",
       " 'lexsort',\n",
       " 'lib',\n",
       " 'linalg',\n",
       " 'linspace',\n",
       " 'little_endian',\n",
       " 'load',\n",
       " 'loads',\n",
       " 'loadtxt',\n",
       " 'log',\n",
       " 'log10',\n",
       " 'log1p',\n",
       " 'log2',\n",
       " 'logaddexp',\n",
       " 'logaddexp2',\n",
       " 'logical_and',\n",
       " 'logical_not',\n",
       " 'logical_or',\n",
       " 'logical_xor',\n",
       " 'logspace',\n",
       " 'long',\n",
       " 'longcomplex',\n",
       " 'longdouble',\n",
       " 'longfloat',\n",
       " 'longlong',\n",
       " 'lookfor',\n",
       " 'ma',\n",
       " 'mafromtxt',\n",
       " 'mask_indices',\n",
       " 'mat',\n",
       " 'math',\n",
       " 'matmul',\n",
       " 'matrix',\n",
       " 'matrixlib',\n",
       " 'max',\n",
       " 'maximum',\n",
       " 'maximum_sctype',\n",
       " 'may_share_memory',\n",
       " 'mean',\n",
       " 'median',\n",
       " 'memmap',\n",
       " 'meshgrid',\n",
       " 'mgrid',\n",
       " 'min',\n",
       " 'min_scalar_type',\n",
       " 'minimum',\n",
       " 'mintypecode',\n",
       " 'mirr',\n",
       " 'mkl',\n",
       " 'mod',\n",
       " 'modf',\n",
       " 'moveaxis',\n",
       " 'msort',\n",
       " 'multiply',\n",
       " 'nan',\n",
       " 'nan_to_num',\n",
       " 'nanargmax',\n",
       " 'nanargmin',\n",
       " 'nancumprod',\n",
       " 'nancumsum',\n",
       " 'nanmax',\n",
       " 'nanmean',\n",
       " 'nanmedian',\n",
       " 'nanmin',\n",
       " 'nanpercentile',\n",
       " 'nanprod',\n",
       " 'nanquantile',\n",
       " 'nanstd',\n",
       " 'nansum',\n",
       " 'nanvar',\n",
       " 'nbytes',\n",
       " 'ndarray',\n",
       " 'ndenumerate',\n",
       " 'ndfromtxt',\n",
       " 'ndim',\n",
       " 'ndindex',\n",
       " 'nditer',\n",
       " 'negative',\n",
       " 'nested_iters',\n",
       " 'newaxis',\n",
       " 'nextafter',\n",
       " 'nonzero',\n",
       " 'not_equal',\n",
       " 'nper',\n",
       " 'npv',\n",
       " 'numarray',\n",
       " 'number',\n",
       " 'obj2sctype',\n",
       " 'object',\n",
       " 'object0',\n",
       " 'object_',\n",
       " 'ogrid',\n",
       " 'oldnumeric',\n",
       " 'ones',\n",
       " 'ones_like',\n",
       " 'outer',\n",
       " 'packbits',\n",
       " 'pad',\n",
       " 'partition',\n",
       " 'percentile',\n",
       " 'pi',\n",
       " 'piecewise',\n",
       " 'place',\n",
       " 'pmt',\n",
       " 'poly',\n",
       " 'poly1d',\n",
       " 'polyadd',\n",
       " 'polyder',\n",
       " 'polydiv',\n",
       " 'polyfit',\n",
       " 'polyint',\n",
       " 'polymul',\n",
       " 'polynomial',\n",
       " 'polysub',\n",
       " 'polyval',\n",
       " 'positive',\n",
       " 'power',\n",
       " 'ppmt',\n",
       " 'print_function',\n",
       " 'printoptions',\n",
       " 'prod',\n",
       " 'product',\n",
       " 'promote_types',\n",
       " 'ptp',\n",
       " 'put',\n",
       " 'put_along_axis',\n",
       " 'putmask',\n",
       " 'pv',\n",
       " 'quantile',\n",
       " 'r_',\n",
       " 'rad2deg',\n",
       " 'radians',\n",
       " 'random',\n",
       " 'rate',\n",
       " 'ravel',\n",
       " 'ravel_multi_index',\n",
       " 'real',\n",
       " 'real_if_close',\n",
       " 'rec',\n",
       " 'recarray',\n",
       " 'recfromcsv',\n",
       " 'recfromtxt',\n",
       " 'reciprocal',\n",
       " 'record',\n",
       " 'remainder',\n",
       " 'repeat',\n",
       " 'require',\n",
       " 'reshape',\n",
       " 'resize',\n",
       " 'result_type',\n",
       " 'right_shift',\n",
       " 'rint',\n",
       " 'roll',\n",
       " 'rollaxis',\n",
       " 'roots',\n",
       " 'rot90',\n",
       " 'round',\n",
       " 'round_',\n",
       " 'row_stack',\n",
       " 's_',\n",
       " 'safe_eval',\n",
       " 'save',\n",
       " 'savetxt',\n",
       " 'savez',\n",
       " 'savez_compressed',\n",
       " 'sctype2char',\n",
       " 'sctypeDict',\n",
       " 'sctypeNA',\n",
       " 'sctypes',\n",
       " 'searchsorted',\n",
       " 'select',\n",
       " 'set_numeric_ops',\n",
       " 'set_printoptions',\n",
       " 'set_string_function',\n",
       " 'setbufsize',\n",
       " 'setdiff1d',\n",
       " 'seterr',\n",
       " 'seterrcall',\n",
       " 'seterrobj',\n",
       " 'setxor1d',\n",
       " 'shape',\n",
       " 'shares_memory',\n",
       " 'short',\n",
       " 'show_config',\n",
       " 'sign',\n",
       " 'signbit',\n",
       " 'signedinteger',\n",
       " 'sin',\n",
       " 'sinc',\n",
       " 'single',\n",
       " 'singlecomplex',\n",
       " 'sinh',\n",
       " 'size',\n",
       " 'sometrue',\n",
       " 'sort',\n",
       " 'sort_complex',\n",
       " 'source',\n",
       " 'spacing',\n",
       " 'split',\n",
       " 'sqrt',\n",
       " 'square',\n",
       " 'squeeze',\n",
       " 'stack',\n",
       " 'std',\n",
       " 'str',\n",
       " 'str0',\n",
       " 'str_',\n",
       " 'string_',\n",
       " 'subtract',\n",
       " 'sum',\n",
       " 'swapaxes',\n",
       " 'sys',\n",
       " 'take',\n",
       " 'take_along_axis',\n",
       " 'tan',\n",
       " 'tanh',\n",
       " 'tensordot',\n",
       " 'test',\n",
       " 'testing',\n",
       " 'tile',\n",
       " 'timedelta64',\n",
       " 'trace',\n",
       " 'tracemalloc_domain',\n",
       " 'transpose',\n",
       " 'trapz',\n",
       " 'tri',\n",
       " 'tril',\n",
       " 'tril_indices',\n",
       " 'tril_indices_from',\n",
       " 'trim_zeros',\n",
       " 'triu',\n",
       " 'triu_indices',\n",
       " 'triu_indices_from',\n",
       " 'true_divide',\n",
       " 'trunc',\n",
       " 'typeDict',\n",
       " 'typeNA',\n",
       " 'typecodes',\n",
       " 'typename',\n",
       " 'ubyte',\n",
       " 'ufunc',\n",
       " 'uint',\n",
       " 'uint0',\n",
       " 'uint16',\n",
       " 'uint32',\n",
       " 'uint64',\n",
       " 'uint8',\n",
       " 'uintc',\n",
       " 'uintp',\n",
       " 'ulonglong',\n",
       " 'unicode',\n",
       " 'unicode_',\n",
       " 'union1d',\n",
       " 'unique',\n",
       " 'unpackbits',\n",
       " 'unravel_index',\n",
       " 'unsignedinteger',\n",
       " 'unwrap',\n",
       " 'ushort',\n",
       " 'vander',\n",
       " 'var',\n",
       " 'vdot',\n",
       " 'vectorize',\n",
       " 'version',\n",
       " 'void',\n",
       " 'void0',\n",
       " 'vsplit',\n",
       " 'vstack',\n",
       " 'warnings',\n",
       " 'where',\n",
       " 'who',\n",
       " 'zeros',\n",
       " 'zeros_like']"
      ]
     },
     "execution_count": 7,
     "metadata": {},
     "output_type": "execute_result"
    }
   ],
   "source": [
    "dir(np)"
   ]
  },
  {
   "cell_type": "code",
   "execution_count": 14,
   "metadata": {},
   "outputs": [
    {
     "data": {
      "text/plain": [
       "1"
      ]
     },
     "execution_count": 14,
     "metadata": {},
     "output_type": "execute_result"
    }
   ],
   "source": [
    "arr[0]"
   ]
  },
  {
   "cell_type": "code",
   "execution_count": 22,
   "metadata": {},
   "outputs": [
    {
     "data": {
      "text/plain": [
       "array([1, 2, 3, 4])"
      ]
     },
     "execution_count": 22,
     "metadata": {},
     "output_type": "execute_result"
    }
   ],
   "source": [
    "arr"
   ]
  },
  {
   "cell_type": "code",
   "execution_count": 13,
   "metadata": {},
   "outputs": [
    {
     "name": "stdout",
     "output_type": "stream",
     "text": [
      "[1 2 3 4]\n"
     ]
    }
   ],
   "source": [
    "print(arr)"
   ]
  },
  {
   "cell_type": "code",
   "execution_count": 15,
   "metadata": {},
   "outputs": [
    {
     "name": "stdout",
     "output_type": "stream",
     "text": [
      "1\n",
      "2\n",
      "3\n",
      "4\n"
     ]
    }
   ],
   "source": [
    "for i in arr:\n",
    "    print(i)"
   ]
  },
  {
   "cell_type": "code",
   "execution_count": 16,
   "metadata": {},
   "outputs": [
    {
     "name": "stdout",
     "output_type": "stream",
     "text": [
      "0 1\n",
      "1 2\n",
      "2 3\n",
      "3 4\n"
     ]
    }
   ],
   "source": [
    "for i,j in enumerate(arr):\n",
    "    print(i,j)"
   ]
  },
  {
   "cell_type": "code",
   "execution_count": 17,
   "metadata": {},
   "outputs": [],
   "source": [
    "lista_lista = [[1,2,3],[4,5,6],[7,8,9]]"
   ]
  },
  {
   "cell_type": "code",
   "execution_count": 18,
   "metadata": {},
   "outputs": [
    {
     "data": {
      "text/plain": [
       "[[1, 2, 3], [4, 5, 6], [7, 8, 9]]"
      ]
     },
     "execution_count": 18,
     "metadata": {},
     "output_type": "execute_result"
    }
   ],
   "source": [
    "lista_lista"
   ]
  },
  {
   "cell_type": "code",
   "execution_count": 19,
   "metadata": {},
   "outputs": [],
   "source": [
    "m_numpy = np.array(lista_lista)"
   ]
  },
  {
   "cell_type": "code",
   "execution_count": 25,
   "metadata": {},
   "outputs": [
    {
     "data": {
      "text/plain": [
       "1"
      ]
     },
     "execution_count": 25,
     "metadata": {},
     "output_type": "execute_result"
    }
   ],
   "source": [
    "m_numpy[0][0]"
   ]
  },
  {
   "cell_type": "code",
   "execution_count": 35,
   "metadata": {},
   "outputs": [
    {
     "data": {
      "text/plain": [
       "array([1, 2, 3])"
      ]
     },
     "execution_count": 35,
     "metadata": {},
     "output_type": "execute_result"
    }
   ],
   "source": [
    "m_numpy[:2][0]"
   ]
  },
  {
   "cell_type": "code",
   "execution_count": 36,
   "metadata": {},
   "outputs": [],
   "source": [
    "v = list(range(10))"
   ]
  },
  {
   "cell_type": "code",
   "execution_count": 37,
   "metadata": {},
   "outputs": [
    {
     "data": {
      "text/plain": [
       "[0, 1, 2, 3, 4, 5, 6, 7, 8, 9]"
      ]
     },
     "execution_count": 37,
     "metadata": {},
     "output_type": "execute_result"
    }
   ],
   "source": [
    "v"
   ]
  },
  {
   "cell_type": "code",
   "execution_count": 38,
   "metadata": {},
   "outputs": [],
   "source": [
    "arr = np.arange(10)"
   ]
  },
  {
   "cell_type": "code",
   "execution_count": 39,
   "metadata": {},
   "outputs": [
    {
     "data": {
      "text/plain": [
       "array([0, 1, 2, 3, 4, 5, 6, 7, 8, 9])"
      ]
     },
     "execution_count": 39,
     "metadata": {},
     "output_type": "execute_result"
    }
   ],
   "source": [
    "arr"
   ]
  },
  {
   "cell_type": "code",
   "execution_count": 43,
   "metadata": {},
   "outputs": [],
   "source": [
    "#como ver a ordem da matriz(linha,coluna)"
   ]
  },
  {
   "cell_type": "code",
   "execution_count": 40,
   "metadata": {},
   "outputs": [
    {
     "data": {
      "text/plain": [
       "(10,)"
      ]
     },
     "execution_count": 40,
     "metadata": {},
     "output_type": "execute_result"
    }
   ],
   "source": [
    "arr.shape"
   ]
  },
  {
   "cell_type": "code",
   "execution_count": 42,
   "metadata": {},
   "outputs": [
    {
     "data": {
      "text/plain": [
       "(3, 3)"
      ]
     },
     "execution_count": 42,
     "metadata": {},
     "output_type": "execute_result"
    }
   ],
   "source": [
    "\n",
    "m_numpy.shape"
   ]
  },
  {
   "cell_type": "code",
   "execution_count": 47,
   "metadata": {},
   "outputs": [
    {
     "data": {
      "text/plain": [
       "array([[0., 0., 0., 0., 0.],\n",
       "       [0., 0., 0., 0., 0.],\n",
       "       [0., 0., 0., 0., 0.],\n",
       "       [0., 0., 0., 0., 0.],\n",
       "       [0., 0., 0., 0., 0.]])"
      ]
     },
     "execution_count": 47,
     "metadata": {},
     "output_type": "execute_result"
    }
   ],
   "source": [
    "#passar uma tupla como argumento\n",
    "np.zeros((5,5))"
   ]
  },
  {
   "cell_type": "code",
   "execution_count": 49,
   "metadata": {},
   "outputs": [],
   "source": [
    "arr_3  = np.zeros((3,3,3))"
   ]
  },
  {
   "cell_type": "code",
   "execution_count": 50,
   "metadata": {},
   "outputs": [
    {
     "data": {
      "text/plain": [
       "array([[[0., 0., 0.],\n",
       "        [0., 0., 0.],\n",
       "        [0., 0., 0.]],\n",
       "\n",
       "       [[0., 0., 0.],\n",
       "        [0., 0., 0.],\n",
       "        [0., 0., 0.]],\n",
       "\n",
       "       [[0., 0., 0.],\n",
       "        [0., 0., 0.],\n",
       "        [0., 0., 0.]]])"
      ]
     },
     "execution_count": 50,
     "metadata": {},
     "output_type": "execute_result"
    }
   ],
   "source": [
    "arr_3"
   ]
  },
  {
   "cell_type": "code",
   "execution_count": 51,
   "metadata": {},
   "outputs": [
    {
     "data": {
      "text/plain": [
       "(3, 3, 3)"
      ]
     },
     "execution_count": 51,
     "metadata": {},
     "output_type": "execute_result"
    }
   ],
   "source": [
    "arr_3.shape"
   ]
  },
  {
   "cell_type": "code",
   "execution_count": 54,
   "metadata": {},
   "outputs": [],
   "source": [
    "arr_x = np.zeros((2,3,4))"
   ]
  },
  {
   "cell_type": "code",
   "execution_count": 55,
   "metadata": {},
   "outputs": [
    {
     "data": {
      "text/plain": [
       "array([[[0., 0., 0., 0.],\n",
       "        [0., 0., 0., 0.],\n",
       "        [0., 0., 0., 0.]],\n",
       "\n",
       "       [[0., 0., 0., 0.],\n",
       "        [0., 0., 0., 0.],\n",
       "        [0., 0., 0., 0.]]])"
      ]
     },
     "execution_count": 55,
     "metadata": {},
     "output_type": "execute_result"
    }
   ],
   "source": [
    "arr_x"
   ]
  },
  {
   "cell_type": "code",
   "execution_count": 56,
   "metadata": {},
   "outputs": [],
   "source": [
    "arr = np.zeros((2,3,4,5,6,7))"
   ]
  },
  {
   "cell_type": "code",
   "execution_count": 57,
   "metadata": {},
   "outputs": [
    {
     "data": {
      "text/plain": [
       "array([[[[[[0., 0., 0., ..., 0., 0., 0.],\n",
       "           [0., 0., 0., ..., 0., 0., 0.],\n",
       "           [0., 0., 0., ..., 0., 0., 0.],\n",
       "           [0., 0., 0., ..., 0., 0., 0.],\n",
       "           [0., 0., 0., ..., 0., 0., 0.],\n",
       "           [0., 0., 0., ..., 0., 0., 0.]],\n",
       "\n",
       "          [[0., 0., 0., ..., 0., 0., 0.],\n",
       "           [0., 0., 0., ..., 0., 0., 0.],\n",
       "           [0., 0., 0., ..., 0., 0., 0.],\n",
       "           [0., 0., 0., ..., 0., 0., 0.],\n",
       "           [0., 0., 0., ..., 0., 0., 0.],\n",
       "           [0., 0., 0., ..., 0., 0., 0.]],\n",
       "\n",
       "          [[0., 0., 0., ..., 0., 0., 0.],\n",
       "           [0., 0., 0., ..., 0., 0., 0.],\n",
       "           [0., 0., 0., ..., 0., 0., 0.],\n",
       "           [0., 0., 0., ..., 0., 0., 0.],\n",
       "           [0., 0., 0., ..., 0., 0., 0.],\n",
       "           [0., 0., 0., ..., 0., 0., 0.]],\n",
       "\n",
       "          [[0., 0., 0., ..., 0., 0., 0.],\n",
       "           [0., 0., 0., ..., 0., 0., 0.],\n",
       "           [0., 0., 0., ..., 0., 0., 0.],\n",
       "           [0., 0., 0., ..., 0., 0., 0.],\n",
       "           [0., 0., 0., ..., 0., 0., 0.],\n",
       "           [0., 0., 0., ..., 0., 0., 0.]],\n",
       "\n",
       "          [[0., 0., 0., ..., 0., 0., 0.],\n",
       "           [0., 0., 0., ..., 0., 0., 0.],\n",
       "           [0., 0., 0., ..., 0., 0., 0.],\n",
       "           [0., 0., 0., ..., 0., 0., 0.],\n",
       "           [0., 0., 0., ..., 0., 0., 0.],\n",
       "           [0., 0., 0., ..., 0., 0., 0.]]],\n",
       "\n",
       "\n",
       "         [[[0., 0., 0., ..., 0., 0., 0.],\n",
       "           [0., 0., 0., ..., 0., 0., 0.],\n",
       "           [0., 0., 0., ..., 0., 0., 0.],\n",
       "           [0., 0., 0., ..., 0., 0., 0.],\n",
       "           [0., 0., 0., ..., 0., 0., 0.],\n",
       "           [0., 0., 0., ..., 0., 0., 0.]],\n",
       "\n",
       "          [[0., 0., 0., ..., 0., 0., 0.],\n",
       "           [0., 0., 0., ..., 0., 0., 0.],\n",
       "           [0., 0., 0., ..., 0., 0., 0.],\n",
       "           [0., 0., 0., ..., 0., 0., 0.],\n",
       "           [0., 0., 0., ..., 0., 0., 0.],\n",
       "           [0., 0., 0., ..., 0., 0., 0.]],\n",
       "\n",
       "          [[0., 0., 0., ..., 0., 0., 0.],\n",
       "           [0., 0., 0., ..., 0., 0., 0.],\n",
       "           [0., 0., 0., ..., 0., 0., 0.],\n",
       "           [0., 0., 0., ..., 0., 0., 0.],\n",
       "           [0., 0., 0., ..., 0., 0., 0.],\n",
       "           [0., 0., 0., ..., 0., 0., 0.]],\n",
       "\n",
       "          [[0., 0., 0., ..., 0., 0., 0.],\n",
       "           [0., 0., 0., ..., 0., 0., 0.],\n",
       "           [0., 0., 0., ..., 0., 0., 0.],\n",
       "           [0., 0., 0., ..., 0., 0., 0.],\n",
       "           [0., 0., 0., ..., 0., 0., 0.],\n",
       "           [0., 0., 0., ..., 0., 0., 0.]],\n",
       "\n",
       "          [[0., 0., 0., ..., 0., 0., 0.],\n",
       "           [0., 0., 0., ..., 0., 0., 0.],\n",
       "           [0., 0., 0., ..., 0., 0., 0.],\n",
       "           [0., 0., 0., ..., 0., 0., 0.],\n",
       "           [0., 0., 0., ..., 0., 0., 0.],\n",
       "           [0., 0., 0., ..., 0., 0., 0.]]],\n",
       "\n",
       "\n",
       "         [[[0., 0., 0., ..., 0., 0., 0.],\n",
       "           [0., 0., 0., ..., 0., 0., 0.],\n",
       "           [0., 0., 0., ..., 0., 0., 0.],\n",
       "           [0., 0., 0., ..., 0., 0., 0.],\n",
       "           [0., 0., 0., ..., 0., 0., 0.],\n",
       "           [0., 0., 0., ..., 0., 0., 0.]],\n",
       "\n",
       "          [[0., 0., 0., ..., 0., 0., 0.],\n",
       "           [0., 0., 0., ..., 0., 0., 0.],\n",
       "           [0., 0., 0., ..., 0., 0., 0.],\n",
       "           [0., 0., 0., ..., 0., 0., 0.],\n",
       "           [0., 0., 0., ..., 0., 0., 0.],\n",
       "           [0., 0., 0., ..., 0., 0., 0.]],\n",
       "\n",
       "          [[0., 0., 0., ..., 0., 0., 0.],\n",
       "           [0., 0., 0., ..., 0., 0., 0.],\n",
       "           [0., 0., 0., ..., 0., 0., 0.],\n",
       "           [0., 0., 0., ..., 0., 0., 0.],\n",
       "           [0., 0., 0., ..., 0., 0., 0.],\n",
       "           [0., 0., 0., ..., 0., 0., 0.]],\n",
       "\n",
       "          [[0., 0., 0., ..., 0., 0., 0.],\n",
       "           [0., 0., 0., ..., 0., 0., 0.],\n",
       "           [0., 0., 0., ..., 0., 0., 0.],\n",
       "           [0., 0., 0., ..., 0., 0., 0.],\n",
       "           [0., 0., 0., ..., 0., 0., 0.],\n",
       "           [0., 0., 0., ..., 0., 0., 0.]],\n",
       "\n",
       "          [[0., 0., 0., ..., 0., 0., 0.],\n",
       "           [0., 0., 0., ..., 0., 0., 0.],\n",
       "           [0., 0., 0., ..., 0., 0., 0.],\n",
       "           [0., 0., 0., ..., 0., 0., 0.],\n",
       "           [0., 0., 0., ..., 0., 0., 0.],\n",
       "           [0., 0., 0., ..., 0., 0., 0.]]],\n",
       "\n",
       "\n",
       "         [[[0., 0., 0., ..., 0., 0., 0.],\n",
       "           [0., 0., 0., ..., 0., 0., 0.],\n",
       "           [0., 0., 0., ..., 0., 0., 0.],\n",
       "           [0., 0., 0., ..., 0., 0., 0.],\n",
       "           [0., 0., 0., ..., 0., 0., 0.],\n",
       "           [0., 0., 0., ..., 0., 0., 0.]],\n",
       "\n",
       "          [[0., 0., 0., ..., 0., 0., 0.],\n",
       "           [0., 0., 0., ..., 0., 0., 0.],\n",
       "           [0., 0., 0., ..., 0., 0., 0.],\n",
       "           [0., 0., 0., ..., 0., 0., 0.],\n",
       "           [0., 0., 0., ..., 0., 0., 0.],\n",
       "           [0., 0., 0., ..., 0., 0., 0.]],\n",
       "\n",
       "          [[0., 0., 0., ..., 0., 0., 0.],\n",
       "           [0., 0., 0., ..., 0., 0., 0.],\n",
       "           [0., 0., 0., ..., 0., 0., 0.],\n",
       "           [0., 0., 0., ..., 0., 0., 0.],\n",
       "           [0., 0., 0., ..., 0., 0., 0.],\n",
       "           [0., 0., 0., ..., 0., 0., 0.]],\n",
       "\n",
       "          [[0., 0., 0., ..., 0., 0., 0.],\n",
       "           [0., 0., 0., ..., 0., 0., 0.],\n",
       "           [0., 0., 0., ..., 0., 0., 0.],\n",
       "           [0., 0., 0., ..., 0., 0., 0.],\n",
       "           [0., 0., 0., ..., 0., 0., 0.],\n",
       "           [0., 0., 0., ..., 0., 0., 0.]],\n",
       "\n",
       "          [[0., 0., 0., ..., 0., 0., 0.],\n",
       "           [0., 0., 0., ..., 0., 0., 0.],\n",
       "           [0., 0., 0., ..., 0., 0., 0.],\n",
       "           [0., 0., 0., ..., 0., 0., 0.],\n",
       "           [0., 0., 0., ..., 0., 0., 0.],\n",
       "           [0., 0., 0., ..., 0., 0., 0.]]]],\n",
       "\n",
       "\n",
       "\n",
       "        [[[[0., 0., 0., ..., 0., 0., 0.],\n",
       "           [0., 0., 0., ..., 0., 0., 0.],\n",
       "           [0., 0., 0., ..., 0., 0., 0.],\n",
       "           [0., 0., 0., ..., 0., 0., 0.],\n",
       "           [0., 0., 0., ..., 0., 0., 0.],\n",
       "           [0., 0., 0., ..., 0., 0., 0.]],\n",
       "\n",
       "          [[0., 0., 0., ..., 0., 0., 0.],\n",
       "           [0., 0., 0., ..., 0., 0., 0.],\n",
       "           [0., 0., 0., ..., 0., 0., 0.],\n",
       "           [0., 0., 0., ..., 0., 0., 0.],\n",
       "           [0., 0., 0., ..., 0., 0., 0.],\n",
       "           [0., 0., 0., ..., 0., 0., 0.]],\n",
       "\n",
       "          [[0., 0., 0., ..., 0., 0., 0.],\n",
       "           [0., 0., 0., ..., 0., 0., 0.],\n",
       "           [0., 0., 0., ..., 0., 0., 0.],\n",
       "           [0., 0., 0., ..., 0., 0., 0.],\n",
       "           [0., 0., 0., ..., 0., 0., 0.],\n",
       "           [0., 0., 0., ..., 0., 0., 0.]],\n",
       "\n",
       "          [[0., 0., 0., ..., 0., 0., 0.],\n",
       "           [0., 0., 0., ..., 0., 0., 0.],\n",
       "           [0., 0., 0., ..., 0., 0., 0.],\n",
       "           [0., 0., 0., ..., 0., 0., 0.],\n",
       "           [0., 0., 0., ..., 0., 0., 0.],\n",
       "           [0., 0., 0., ..., 0., 0., 0.]],\n",
       "\n",
       "          [[0., 0., 0., ..., 0., 0., 0.],\n",
       "           [0., 0., 0., ..., 0., 0., 0.],\n",
       "           [0., 0., 0., ..., 0., 0., 0.],\n",
       "           [0., 0., 0., ..., 0., 0., 0.],\n",
       "           [0., 0., 0., ..., 0., 0., 0.],\n",
       "           [0., 0., 0., ..., 0., 0., 0.]]],\n",
       "\n",
       "\n",
       "         [[[0., 0., 0., ..., 0., 0., 0.],\n",
       "           [0., 0., 0., ..., 0., 0., 0.],\n",
       "           [0., 0., 0., ..., 0., 0., 0.],\n",
       "           [0., 0., 0., ..., 0., 0., 0.],\n",
       "           [0., 0., 0., ..., 0., 0., 0.],\n",
       "           [0., 0., 0., ..., 0., 0., 0.]],\n",
       "\n",
       "          [[0., 0., 0., ..., 0., 0., 0.],\n",
       "           [0., 0., 0., ..., 0., 0., 0.],\n",
       "           [0., 0., 0., ..., 0., 0., 0.],\n",
       "           [0., 0., 0., ..., 0., 0., 0.],\n",
       "           [0., 0., 0., ..., 0., 0., 0.],\n",
       "           [0., 0., 0., ..., 0., 0., 0.]],\n",
       "\n",
       "          [[0., 0., 0., ..., 0., 0., 0.],\n",
       "           [0., 0., 0., ..., 0., 0., 0.],\n",
       "           [0., 0., 0., ..., 0., 0., 0.],\n",
       "           [0., 0., 0., ..., 0., 0., 0.],\n",
       "           [0., 0., 0., ..., 0., 0., 0.],\n",
       "           [0., 0., 0., ..., 0., 0., 0.]],\n",
       "\n",
       "          [[0., 0., 0., ..., 0., 0., 0.],\n",
       "           [0., 0., 0., ..., 0., 0., 0.],\n",
       "           [0., 0., 0., ..., 0., 0., 0.],\n",
       "           [0., 0., 0., ..., 0., 0., 0.],\n",
       "           [0., 0., 0., ..., 0., 0., 0.],\n",
       "           [0., 0., 0., ..., 0., 0., 0.]],\n",
       "\n",
       "          [[0., 0., 0., ..., 0., 0., 0.],\n",
       "           [0., 0., 0., ..., 0., 0., 0.],\n",
       "           [0., 0., 0., ..., 0., 0., 0.],\n",
       "           [0., 0., 0., ..., 0., 0., 0.],\n",
       "           [0., 0., 0., ..., 0., 0., 0.],\n",
       "           [0., 0., 0., ..., 0., 0., 0.]]],\n",
       "\n",
       "\n",
       "         [[[0., 0., 0., ..., 0., 0., 0.],\n",
       "           [0., 0., 0., ..., 0., 0., 0.],\n",
       "           [0., 0., 0., ..., 0., 0., 0.],\n",
       "           [0., 0., 0., ..., 0., 0., 0.],\n",
       "           [0., 0., 0., ..., 0., 0., 0.],\n",
       "           [0., 0., 0., ..., 0., 0., 0.]],\n",
       "\n",
       "          [[0., 0., 0., ..., 0., 0., 0.],\n",
       "           [0., 0., 0., ..., 0., 0., 0.],\n",
       "           [0., 0., 0., ..., 0., 0., 0.],\n",
       "           [0., 0., 0., ..., 0., 0., 0.],\n",
       "           [0., 0., 0., ..., 0., 0., 0.],\n",
       "           [0., 0., 0., ..., 0., 0., 0.]],\n",
       "\n",
       "          [[0., 0., 0., ..., 0., 0., 0.],\n",
       "           [0., 0., 0., ..., 0., 0., 0.],\n",
       "           [0., 0., 0., ..., 0., 0., 0.],\n",
       "           [0., 0., 0., ..., 0., 0., 0.],\n",
       "           [0., 0., 0., ..., 0., 0., 0.],\n",
       "           [0., 0., 0., ..., 0., 0., 0.]],\n",
       "\n",
       "          [[0., 0., 0., ..., 0., 0., 0.],\n",
       "           [0., 0., 0., ..., 0., 0., 0.],\n",
       "           [0., 0., 0., ..., 0., 0., 0.],\n",
       "           [0., 0., 0., ..., 0., 0., 0.],\n",
       "           [0., 0., 0., ..., 0., 0., 0.],\n",
       "           [0., 0., 0., ..., 0., 0., 0.]],\n",
       "\n",
       "          [[0., 0., 0., ..., 0., 0., 0.],\n",
       "           [0., 0., 0., ..., 0., 0., 0.],\n",
       "           [0., 0., 0., ..., 0., 0., 0.],\n",
       "           [0., 0., 0., ..., 0., 0., 0.],\n",
       "           [0., 0., 0., ..., 0., 0., 0.],\n",
       "           [0., 0., 0., ..., 0., 0., 0.]]],\n",
       "\n",
       "\n",
       "         [[[0., 0., 0., ..., 0., 0., 0.],\n",
       "           [0., 0., 0., ..., 0., 0., 0.],\n",
       "           [0., 0., 0., ..., 0., 0., 0.],\n",
       "           [0., 0., 0., ..., 0., 0., 0.],\n",
       "           [0., 0., 0., ..., 0., 0., 0.],\n",
       "           [0., 0., 0., ..., 0., 0., 0.]],\n",
       "\n",
       "          [[0., 0., 0., ..., 0., 0., 0.],\n",
       "           [0., 0., 0., ..., 0., 0., 0.],\n",
       "           [0., 0., 0., ..., 0., 0., 0.],\n",
       "           [0., 0., 0., ..., 0., 0., 0.],\n",
       "           [0., 0., 0., ..., 0., 0., 0.],\n",
       "           [0., 0., 0., ..., 0., 0., 0.]],\n",
       "\n",
       "          [[0., 0., 0., ..., 0., 0., 0.],\n",
       "           [0., 0., 0., ..., 0., 0., 0.],\n",
       "           [0., 0., 0., ..., 0., 0., 0.],\n",
       "           [0., 0., 0., ..., 0., 0., 0.],\n",
       "           [0., 0., 0., ..., 0., 0., 0.],\n",
       "           [0., 0., 0., ..., 0., 0., 0.]],\n",
       "\n",
       "          [[0., 0., 0., ..., 0., 0., 0.],\n",
       "           [0., 0., 0., ..., 0., 0., 0.],\n",
       "           [0., 0., 0., ..., 0., 0., 0.],\n",
       "           [0., 0., 0., ..., 0., 0., 0.],\n",
       "           [0., 0., 0., ..., 0., 0., 0.],\n",
       "           [0., 0., 0., ..., 0., 0., 0.]],\n",
       "\n",
       "          [[0., 0., 0., ..., 0., 0., 0.],\n",
       "           [0., 0., 0., ..., 0., 0., 0.],\n",
       "           [0., 0., 0., ..., 0., 0., 0.],\n",
       "           [0., 0., 0., ..., 0., 0., 0.],\n",
       "           [0., 0., 0., ..., 0., 0., 0.],\n",
       "           [0., 0., 0., ..., 0., 0., 0.]]]],\n",
       "\n",
       "\n",
       "\n",
       "        [[[[0., 0., 0., ..., 0., 0., 0.],\n",
       "           [0., 0., 0., ..., 0., 0., 0.],\n",
       "           [0., 0., 0., ..., 0., 0., 0.],\n",
       "           [0., 0., 0., ..., 0., 0., 0.],\n",
       "           [0., 0., 0., ..., 0., 0., 0.],\n",
       "           [0., 0., 0., ..., 0., 0., 0.]],\n",
       "\n",
       "          [[0., 0., 0., ..., 0., 0., 0.],\n",
       "           [0., 0., 0., ..., 0., 0., 0.],\n",
       "           [0., 0., 0., ..., 0., 0., 0.],\n",
       "           [0., 0., 0., ..., 0., 0., 0.],\n",
       "           [0., 0., 0., ..., 0., 0., 0.],\n",
       "           [0., 0., 0., ..., 0., 0., 0.]],\n",
       "\n",
       "          [[0., 0., 0., ..., 0., 0., 0.],\n",
       "           [0., 0., 0., ..., 0., 0., 0.],\n",
       "           [0., 0., 0., ..., 0., 0., 0.],\n",
       "           [0., 0., 0., ..., 0., 0., 0.],\n",
       "           [0., 0., 0., ..., 0., 0., 0.],\n",
       "           [0., 0., 0., ..., 0., 0., 0.]],\n",
       "\n",
       "          [[0., 0., 0., ..., 0., 0., 0.],\n",
       "           [0., 0., 0., ..., 0., 0., 0.],\n",
       "           [0., 0., 0., ..., 0., 0., 0.],\n",
       "           [0., 0., 0., ..., 0., 0., 0.],\n",
       "           [0., 0., 0., ..., 0., 0., 0.],\n",
       "           [0., 0., 0., ..., 0., 0., 0.]],\n",
       "\n",
       "          [[0., 0., 0., ..., 0., 0., 0.],\n",
       "           [0., 0., 0., ..., 0., 0., 0.],\n",
       "           [0., 0., 0., ..., 0., 0., 0.],\n",
       "           [0., 0., 0., ..., 0., 0., 0.],\n",
       "           [0., 0., 0., ..., 0., 0., 0.],\n",
       "           [0., 0., 0., ..., 0., 0., 0.]]],\n",
       "\n",
       "\n",
       "         [[[0., 0., 0., ..., 0., 0., 0.],\n",
       "           [0., 0., 0., ..., 0., 0., 0.],\n",
       "           [0., 0., 0., ..., 0., 0., 0.],\n",
       "           [0., 0., 0., ..., 0., 0., 0.],\n",
       "           [0., 0., 0., ..., 0., 0., 0.],\n",
       "           [0., 0., 0., ..., 0., 0., 0.]],\n",
       "\n",
       "          [[0., 0., 0., ..., 0., 0., 0.],\n",
       "           [0., 0., 0., ..., 0., 0., 0.],\n",
       "           [0., 0., 0., ..., 0., 0., 0.],\n",
       "           [0., 0., 0., ..., 0., 0., 0.],\n",
       "           [0., 0., 0., ..., 0., 0., 0.],\n",
       "           [0., 0., 0., ..., 0., 0., 0.]],\n",
       "\n",
       "          [[0., 0., 0., ..., 0., 0., 0.],\n",
       "           [0., 0., 0., ..., 0., 0., 0.],\n",
       "           [0., 0., 0., ..., 0., 0., 0.],\n",
       "           [0., 0., 0., ..., 0., 0., 0.],\n",
       "           [0., 0., 0., ..., 0., 0., 0.],\n",
       "           [0., 0., 0., ..., 0., 0., 0.]],\n",
       "\n",
       "          [[0., 0., 0., ..., 0., 0., 0.],\n",
       "           [0., 0., 0., ..., 0., 0., 0.],\n",
       "           [0., 0., 0., ..., 0., 0., 0.],\n",
       "           [0., 0., 0., ..., 0., 0., 0.],\n",
       "           [0., 0., 0., ..., 0., 0., 0.],\n",
       "           [0., 0., 0., ..., 0., 0., 0.]],\n",
       "\n",
       "          [[0., 0., 0., ..., 0., 0., 0.],\n",
       "           [0., 0., 0., ..., 0., 0., 0.],\n",
       "           [0., 0., 0., ..., 0., 0., 0.],\n",
       "           [0., 0., 0., ..., 0., 0., 0.],\n",
       "           [0., 0., 0., ..., 0., 0., 0.],\n",
       "           [0., 0., 0., ..., 0., 0., 0.]]],\n",
       "\n",
       "\n",
       "         [[[0., 0., 0., ..., 0., 0., 0.],\n",
       "           [0., 0., 0., ..., 0., 0., 0.],\n",
       "           [0., 0., 0., ..., 0., 0., 0.],\n",
       "           [0., 0., 0., ..., 0., 0., 0.],\n",
       "           [0., 0., 0., ..., 0., 0., 0.],\n",
       "           [0., 0., 0., ..., 0., 0., 0.]],\n",
       "\n",
       "          [[0., 0., 0., ..., 0., 0., 0.],\n",
       "           [0., 0., 0., ..., 0., 0., 0.],\n",
       "           [0., 0., 0., ..., 0., 0., 0.],\n",
       "           [0., 0., 0., ..., 0., 0., 0.],\n",
       "           [0., 0., 0., ..., 0., 0., 0.],\n",
       "           [0., 0., 0., ..., 0., 0., 0.]],\n",
       "\n",
       "          [[0., 0., 0., ..., 0., 0., 0.],\n",
       "           [0., 0., 0., ..., 0., 0., 0.],\n",
       "           [0., 0., 0., ..., 0., 0., 0.],\n",
       "           [0., 0., 0., ..., 0., 0., 0.],\n",
       "           [0., 0., 0., ..., 0., 0., 0.],\n",
       "           [0., 0., 0., ..., 0., 0., 0.]],\n",
       "\n",
       "          [[0., 0., 0., ..., 0., 0., 0.],\n",
       "           [0., 0., 0., ..., 0., 0., 0.],\n",
       "           [0., 0., 0., ..., 0., 0., 0.],\n",
       "           [0., 0., 0., ..., 0., 0., 0.],\n",
       "           [0., 0., 0., ..., 0., 0., 0.],\n",
       "           [0., 0., 0., ..., 0., 0., 0.]],\n",
       "\n",
       "          [[0., 0., 0., ..., 0., 0., 0.],\n",
       "           [0., 0., 0., ..., 0., 0., 0.],\n",
       "           [0., 0., 0., ..., 0., 0., 0.],\n",
       "           [0., 0., 0., ..., 0., 0., 0.],\n",
       "           [0., 0., 0., ..., 0., 0., 0.],\n",
       "           [0., 0., 0., ..., 0., 0., 0.]]],\n",
       "\n",
       "\n",
       "         [[[0., 0., 0., ..., 0., 0., 0.],\n",
       "           [0., 0., 0., ..., 0., 0., 0.],\n",
       "           [0., 0., 0., ..., 0., 0., 0.],\n",
       "           [0., 0., 0., ..., 0., 0., 0.],\n",
       "           [0., 0., 0., ..., 0., 0., 0.],\n",
       "           [0., 0., 0., ..., 0., 0., 0.]],\n",
       "\n",
       "          [[0., 0., 0., ..., 0., 0., 0.],\n",
       "           [0., 0., 0., ..., 0., 0., 0.],\n",
       "           [0., 0., 0., ..., 0., 0., 0.],\n",
       "           [0., 0., 0., ..., 0., 0., 0.],\n",
       "           [0., 0., 0., ..., 0., 0., 0.],\n",
       "           [0., 0., 0., ..., 0., 0., 0.]],\n",
       "\n",
       "          [[0., 0., 0., ..., 0., 0., 0.],\n",
       "           [0., 0., 0., ..., 0., 0., 0.],\n",
       "           [0., 0., 0., ..., 0., 0., 0.],\n",
       "           [0., 0., 0., ..., 0., 0., 0.],\n",
       "           [0., 0., 0., ..., 0., 0., 0.],\n",
       "           [0., 0., 0., ..., 0., 0., 0.]],\n",
       "\n",
       "          [[0., 0., 0., ..., 0., 0., 0.],\n",
       "           [0., 0., 0., ..., 0., 0., 0.],\n",
       "           [0., 0., 0., ..., 0., 0., 0.],\n",
       "           [0., 0., 0., ..., 0., 0., 0.],\n",
       "           [0., 0., 0., ..., 0., 0., 0.],\n",
       "           [0., 0., 0., ..., 0., 0., 0.]],\n",
       "\n",
       "          [[0., 0., 0., ..., 0., 0., 0.],\n",
       "           [0., 0., 0., ..., 0., 0., 0.],\n",
       "           [0., 0., 0., ..., 0., 0., 0.],\n",
       "           [0., 0., 0., ..., 0., 0., 0.],\n",
       "           [0., 0., 0., ..., 0., 0., 0.],\n",
       "           [0., 0., 0., ..., 0., 0., 0.]]]]],\n",
       "\n",
       "\n",
       "\n",
       "\n",
       "       [[[[[0., 0., 0., ..., 0., 0., 0.],\n",
       "           [0., 0., 0., ..., 0., 0., 0.],\n",
       "           [0., 0., 0., ..., 0., 0., 0.],\n",
       "           [0., 0., 0., ..., 0., 0., 0.],\n",
       "           [0., 0., 0., ..., 0., 0., 0.],\n",
       "           [0., 0., 0., ..., 0., 0., 0.]],\n",
       "\n",
       "          [[0., 0., 0., ..., 0., 0., 0.],\n",
       "           [0., 0., 0., ..., 0., 0., 0.],\n",
       "           [0., 0., 0., ..., 0., 0., 0.],\n",
       "           [0., 0., 0., ..., 0., 0., 0.],\n",
       "           [0., 0., 0., ..., 0., 0., 0.],\n",
       "           [0., 0., 0., ..., 0., 0., 0.]],\n",
       "\n",
       "          [[0., 0., 0., ..., 0., 0., 0.],\n",
       "           [0., 0., 0., ..., 0., 0., 0.],\n",
       "           [0., 0., 0., ..., 0., 0., 0.],\n",
       "           [0., 0., 0., ..., 0., 0., 0.],\n",
       "           [0., 0., 0., ..., 0., 0., 0.],\n",
       "           [0., 0., 0., ..., 0., 0., 0.]],\n",
       "\n",
       "          [[0., 0., 0., ..., 0., 0., 0.],\n",
       "           [0., 0., 0., ..., 0., 0., 0.],\n",
       "           [0., 0., 0., ..., 0., 0., 0.],\n",
       "           [0., 0., 0., ..., 0., 0., 0.],\n",
       "           [0., 0., 0., ..., 0., 0., 0.],\n",
       "           [0., 0., 0., ..., 0., 0., 0.]],\n",
       "\n",
       "          [[0., 0., 0., ..., 0., 0., 0.],\n",
       "           [0., 0., 0., ..., 0., 0., 0.],\n",
       "           [0., 0., 0., ..., 0., 0., 0.],\n",
       "           [0., 0., 0., ..., 0., 0., 0.],\n",
       "           [0., 0., 0., ..., 0., 0., 0.],\n",
       "           [0., 0., 0., ..., 0., 0., 0.]]],\n",
       "\n",
       "\n",
       "         [[[0., 0., 0., ..., 0., 0., 0.],\n",
       "           [0., 0., 0., ..., 0., 0., 0.],\n",
       "           [0., 0., 0., ..., 0., 0., 0.],\n",
       "           [0., 0., 0., ..., 0., 0., 0.],\n",
       "           [0., 0., 0., ..., 0., 0., 0.],\n",
       "           [0., 0., 0., ..., 0., 0., 0.]],\n",
       "\n",
       "          [[0., 0., 0., ..., 0., 0., 0.],\n",
       "           [0., 0., 0., ..., 0., 0., 0.],\n",
       "           [0., 0., 0., ..., 0., 0., 0.],\n",
       "           [0., 0., 0., ..., 0., 0., 0.],\n",
       "           [0., 0., 0., ..., 0., 0., 0.],\n",
       "           [0., 0., 0., ..., 0., 0., 0.]],\n",
       "\n",
       "          [[0., 0., 0., ..., 0., 0., 0.],\n",
       "           [0., 0., 0., ..., 0., 0., 0.],\n",
       "           [0., 0., 0., ..., 0., 0., 0.],\n",
       "           [0., 0., 0., ..., 0., 0., 0.],\n",
       "           [0., 0., 0., ..., 0., 0., 0.],\n",
       "           [0., 0., 0., ..., 0., 0., 0.]],\n",
       "\n",
       "          [[0., 0., 0., ..., 0., 0., 0.],\n",
       "           [0., 0., 0., ..., 0., 0., 0.],\n",
       "           [0., 0., 0., ..., 0., 0., 0.],\n",
       "           [0., 0., 0., ..., 0., 0., 0.],\n",
       "           [0., 0., 0., ..., 0., 0., 0.],\n",
       "           [0., 0., 0., ..., 0., 0., 0.]],\n",
       "\n",
       "          [[0., 0., 0., ..., 0., 0., 0.],\n",
       "           [0., 0., 0., ..., 0., 0., 0.],\n",
       "           [0., 0., 0., ..., 0., 0., 0.],\n",
       "           [0., 0., 0., ..., 0., 0., 0.],\n",
       "           [0., 0., 0., ..., 0., 0., 0.],\n",
       "           [0., 0., 0., ..., 0., 0., 0.]]],\n",
       "\n",
       "\n",
       "         [[[0., 0., 0., ..., 0., 0., 0.],\n",
       "           [0., 0., 0., ..., 0., 0., 0.],\n",
       "           [0., 0., 0., ..., 0., 0., 0.],\n",
       "           [0., 0., 0., ..., 0., 0., 0.],\n",
       "           [0., 0., 0., ..., 0., 0., 0.],\n",
       "           [0., 0., 0., ..., 0., 0., 0.]],\n",
       "\n",
       "          [[0., 0., 0., ..., 0., 0., 0.],\n",
       "           [0., 0., 0., ..., 0., 0., 0.],\n",
       "           [0., 0., 0., ..., 0., 0., 0.],\n",
       "           [0., 0., 0., ..., 0., 0., 0.],\n",
       "           [0., 0., 0., ..., 0., 0., 0.],\n",
       "           [0., 0., 0., ..., 0., 0., 0.]],\n",
       "\n",
       "          [[0., 0., 0., ..., 0., 0., 0.],\n",
       "           [0., 0., 0., ..., 0., 0., 0.],\n",
       "           [0., 0., 0., ..., 0., 0., 0.],\n",
       "           [0., 0., 0., ..., 0., 0., 0.],\n",
       "           [0., 0., 0., ..., 0., 0., 0.],\n",
       "           [0., 0., 0., ..., 0., 0., 0.]],\n",
       "\n",
       "          [[0., 0., 0., ..., 0., 0., 0.],\n",
       "           [0., 0., 0., ..., 0., 0., 0.],\n",
       "           [0., 0., 0., ..., 0., 0., 0.],\n",
       "           [0., 0., 0., ..., 0., 0., 0.],\n",
       "           [0., 0., 0., ..., 0., 0., 0.],\n",
       "           [0., 0., 0., ..., 0., 0., 0.]],\n",
       "\n",
       "          [[0., 0., 0., ..., 0., 0., 0.],\n",
       "           [0., 0., 0., ..., 0., 0., 0.],\n",
       "           [0., 0., 0., ..., 0., 0., 0.],\n",
       "           [0., 0., 0., ..., 0., 0., 0.],\n",
       "           [0., 0., 0., ..., 0., 0., 0.],\n",
       "           [0., 0., 0., ..., 0., 0., 0.]]],\n",
       "\n",
       "\n",
       "         [[[0., 0., 0., ..., 0., 0., 0.],\n",
       "           [0., 0., 0., ..., 0., 0., 0.],\n",
       "           [0., 0., 0., ..., 0., 0., 0.],\n",
       "           [0., 0., 0., ..., 0., 0., 0.],\n",
       "           [0., 0., 0., ..., 0., 0., 0.],\n",
       "           [0., 0., 0., ..., 0., 0., 0.]],\n",
       "\n",
       "          [[0., 0., 0., ..., 0., 0., 0.],\n",
       "           [0., 0., 0., ..., 0., 0., 0.],\n",
       "           [0., 0., 0., ..., 0., 0., 0.],\n",
       "           [0., 0., 0., ..., 0., 0., 0.],\n",
       "           [0., 0., 0., ..., 0., 0., 0.],\n",
       "           [0., 0., 0., ..., 0., 0., 0.]],\n",
       "\n",
       "          [[0., 0., 0., ..., 0., 0., 0.],\n",
       "           [0., 0., 0., ..., 0., 0., 0.],\n",
       "           [0., 0., 0., ..., 0., 0., 0.],\n",
       "           [0., 0., 0., ..., 0., 0., 0.],\n",
       "           [0., 0., 0., ..., 0., 0., 0.],\n",
       "           [0., 0., 0., ..., 0., 0., 0.]],\n",
       "\n",
       "          [[0., 0., 0., ..., 0., 0., 0.],\n",
       "           [0., 0., 0., ..., 0., 0., 0.],\n",
       "           [0., 0., 0., ..., 0., 0., 0.],\n",
       "           [0., 0., 0., ..., 0., 0., 0.],\n",
       "           [0., 0., 0., ..., 0., 0., 0.],\n",
       "           [0., 0., 0., ..., 0., 0., 0.]],\n",
       "\n",
       "          [[0., 0., 0., ..., 0., 0., 0.],\n",
       "           [0., 0., 0., ..., 0., 0., 0.],\n",
       "           [0., 0., 0., ..., 0., 0., 0.],\n",
       "           [0., 0., 0., ..., 0., 0., 0.],\n",
       "           [0., 0., 0., ..., 0., 0., 0.],\n",
       "           [0., 0., 0., ..., 0., 0., 0.]]]],\n",
       "\n",
       "\n",
       "\n",
       "        [[[[0., 0., 0., ..., 0., 0., 0.],\n",
       "           [0., 0., 0., ..., 0., 0., 0.],\n",
       "           [0., 0., 0., ..., 0., 0., 0.],\n",
       "           [0., 0., 0., ..., 0., 0., 0.],\n",
       "           [0., 0., 0., ..., 0., 0., 0.],\n",
       "           [0., 0., 0., ..., 0., 0., 0.]],\n",
       "\n",
       "          [[0., 0., 0., ..., 0., 0., 0.],\n",
       "           [0., 0., 0., ..., 0., 0., 0.],\n",
       "           [0., 0., 0., ..., 0., 0., 0.],\n",
       "           [0., 0., 0., ..., 0., 0., 0.],\n",
       "           [0., 0., 0., ..., 0., 0., 0.],\n",
       "           [0., 0., 0., ..., 0., 0., 0.]],\n",
       "\n",
       "          [[0., 0., 0., ..., 0., 0., 0.],\n",
       "           [0., 0., 0., ..., 0., 0., 0.],\n",
       "           [0., 0., 0., ..., 0., 0., 0.],\n",
       "           [0., 0., 0., ..., 0., 0., 0.],\n",
       "           [0., 0., 0., ..., 0., 0., 0.],\n",
       "           [0., 0., 0., ..., 0., 0., 0.]],\n",
       "\n",
       "          [[0., 0., 0., ..., 0., 0., 0.],\n",
       "           [0., 0., 0., ..., 0., 0., 0.],\n",
       "           [0., 0., 0., ..., 0., 0., 0.],\n",
       "           [0., 0., 0., ..., 0., 0., 0.],\n",
       "           [0., 0., 0., ..., 0., 0., 0.],\n",
       "           [0., 0., 0., ..., 0., 0., 0.]],\n",
       "\n",
       "          [[0., 0., 0., ..., 0., 0., 0.],\n",
       "           [0., 0., 0., ..., 0., 0., 0.],\n",
       "           [0., 0., 0., ..., 0., 0., 0.],\n",
       "           [0., 0., 0., ..., 0., 0., 0.],\n",
       "           [0., 0., 0., ..., 0., 0., 0.],\n",
       "           [0., 0., 0., ..., 0., 0., 0.]]],\n",
       "\n",
       "\n",
       "         [[[0., 0., 0., ..., 0., 0., 0.],\n",
       "           [0., 0., 0., ..., 0., 0., 0.],\n",
       "           [0., 0., 0., ..., 0., 0., 0.],\n",
       "           [0., 0., 0., ..., 0., 0., 0.],\n",
       "           [0., 0., 0., ..., 0., 0., 0.],\n",
       "           [0., 0., 0., ..., 0., 0., 0.]],\n",
       "\n",
       "          [[0., 0., 0., ..., 0., 0., 0.],\n",
       "           [0., 0., 0., ..., 0., 0., 0.],\n",
       "           [0., 0., 0., ..., 0., 0., 0.],\n",
       "           [0., 0., 0., ..., 0., 0., 0.],\n",
       "           [0., 0., 0., ..., 0., 0., 0.],\n",
       "           [0., 0., 0., ..., 0., 0., 0.]],\n",
       "\n",
       "          [[0., 0., 0., ..., 0., 0., 0.],\n",
       "           [0., 0., 0., ..., 0., 0., 0.],\n",
       "           [0., 0., 0., ..., 0., 0., 0.],\n",
       "           [0., 0., 0., ..., 0., 0., 0.],\n",
       "           [0., 0., 0., ..., 0., 0., 0.],\n",
       "           [0., 0., 0., ..., 0., 0., 0.]],\n",
       "\n",
       "          [[0., 0., 0., ..., 0., 0., 0.],\n",
       "           [0., 0., 0., ..., 0., 0., 0.],\n",
       "           [0., 0., 0., ..., 0., 0., 0.],\n",
       "           [0., 0., 0., ..., 0., 0., 0.],\n",
       "           [0., 0., 0., ..., 0., 0., 0.],\n",
       "           [0., 0., 0., ..., 0., 0., 0.]],\n",
       "\n",
       "          [[0., 0., 0., ..., 0., 0., 0.],\n",
       "           [0., 0., 0., ..., 0., 0., 0.],\n",
       "           [0., 0., 0., ..., 0., 0., 0.],\n",
       "           [0., 0., 0., ..., 0., 0., 0.],\n",
       "           [0., 0., 0., ..., 0., 0., 0.],\n",
       "           [0., 0., 0., ..., 0., 0., 0.]]],\n",
       "\n",
       "\n",
       "         [[[0., 0., 0., ..., 0., 0., 0.],\n",
       "           [0., 0., 0., ..., 0., 0., 0.],\n",
       "           [0., 0., 0., ..., 0., 0., 0.],\n",
       "           [0., 0., 0., ..., 0., 0., 0.],\n",
       "           [0., 0., 0., ..., 0., 0., 0.],\n",
       "           [0., 0., 0., ..., 0., 0., 0.]],\n",
       "\n",
       "          [[0., 0., 0., ..., 0., 0., 0.],\n",
       "           [0., 0., 0., ..., 0., 0., 0.],\n",
       "           [0., 0., 0., ..., 0., 0., 0.],\n",
       "           [0., 0., 0., ..., 0., 0., 0.],\n",
       "           [0., 0., 0., ..., 0., 0., 0.],\n",
       "           [0., 0., 0., ..., 0., 0., 0.]],\n",
       "\n",
       "          [[0., 0., 0., ..., 0., 0., 0.],\n",
       "           [0., 0., 0., ..., 0., 0., 0.],\n",
       "           [0., 0., 0., ..., 0., 0., 0.],\n",
       "           [0., 0., 0., ..., 0., 0., 0.],\n",
       "           [0., 0., 0., ..., 0., 0., 0.],\n",
       "           [0., 0., 0., ..., 0., 0., 0.]],\n",
       "\n",
       "          [[0., 0., 0., ..., 0., 0., 0.],\n",
       "           [0., 0., 0., ..., 0., 0., 0.],\n",
       "           [0., 0., 0., ..., 0., 0., 0.],\n",
       "           [0., 0., 0., ..., 0., 0., 0.],\n",
       "           [0., 0., 0., ..., 0., 0., 0.],\n",
       "           [0., 0., 0., ..., 0., 0., 0.]],\n",
       "\n",
       "          [[0., 0., 0., ..., 0., 0., 0.],\n",
       "           [0., 0., 0., ..., 0., 0., 0.],\n",
       "           [0., 0., 0., ..., 0., 0., 0.],\n",
       "           [0., 0., 0., ..., 0., 0., 0.],\n",
       "           [0., 0., 0., ..., 0., 0., 0.],\n",
       "           [0., 0., 0., ..., 0., 0., 0.]]],\n",
       "\n",
       "\n",
       "         [[[0., 0., 0., ..., 0., 0., 0.],\n",
       "           [0., 0., 0., ..., 0., 0., 0.],\n",
       "           [0., 0., 0., ..., 0., 0., 0.],\n",
       "           [0., 0., 0., ..., 0., 0., 0.],\n",
       "           [0., 0., 0., ..., 0., 0., 0.],\n",
       "           [0., 0., 0., ..., 0., 0., 0.]],\n",
       "\n",
       "          [[0., 0., 0., ..., 0., 0., 0.],\n",
       "           [0., 0., 0., ..., 0., 0., 0.],\n",
       "           [0., 0., 0., ..., 0., 0., 0.],\n",
       "           [0., 0., 0., ..., 0., 0., 0.],\n",
       "           [0., 0., 0., ..., 0., 0., 0.],\n",
       "           [0., 0., 0., ..., 0., 0., 0.]],\n",
       "\n",
       "          [[0., 0., 0., ..., 0., 0., 0.],\n",
       "           [0., 0., 0., ..., 0., 0., 0.],\n",
       "           [0., 0., 0., ..., 0., 0., 0.],\n",
       "           [0., 0., 0., ..., 0., 0., 0.],\n",
       "           [0., 0., 0., ..., 0., 0., 0.],\n",
       "           [0., 0., 0., ..., 0., 0., 0.]],\n",
       "\n",
       "          [[0., 0., 0., ..., 0., 0., 0.],\n",
       "           [0., 0., 0., ..., 0., 0., 0.],\n",
       "           [0., 0., 0., ..., 0., 0., 0.],\n",
       "           [0., 0., 0., ..., 0., 0., 0.],\n",
       "           [0., 0., 0., ..., 0., 0., 0.],\n",
       "           [0., 0., 0., ..., 0., 0., 0.]],\n",
       "\n",
       "          [[0., 0., 0., ..., 0., 0., 0.],\n",
       "           [0., 0., 0., ..., 0., 0., 0.],\n",
       "           [0., 0., 0., ..., 0., 0., 0.],\n",
       "           [0., 0., 0., ..., 0., 0., 0.],\n",
       "           [0., 0., 0., ..., 0., 0., 0.],\n",
       "           [0., 0., 0., ..., 0., 0., 0.]]]],\n",
       "\n",
       "\n",
       "\n",
       "        [[[[0., 0., 0., ..., 0., 0., 0.],\n",
       "           [0., 0., 0., ..., 0., 0., 0.],\n",
       "           [0., 0., 0., ..., 0., 0., 0.],\n",
       "           [0., 0., 0., ..., 0., 0., 0.],\n",
       "           [0., 0., 0., ..., 0., 0., 0.],\n",
       "           [0., 0., 0., ..., 0., 0., 0.]],\n",
       "\n",
       "          [[0., 0., 0., ..., 0., 0., 0.],\n",
       "           [0., 0., 0., ..., 0., 0., 0.],\n",
       "           [0., 0., 0., ..., 0., 0., 0.],\n",
       "           [0., 0., 0., ..., 0., 0., 0.],\n",
       "           [0., 0., 0., ..., 0., 0., 0.],\n",
       "           [0., 0., 0., ..., 0., 0., 0.]],\n",
       "\n",
       "          [[0., 0., 0., ..., 0., 0., 0.],\n",
       "           [0., 0., 0., ..., 0., 0., 0.],\n",
       "           [0., 0., 0., ..., 0., 0., 0.],\n",
       "           [0., 0., 0., ..., 0., 0., 0.],\n",
       "           [0., 0., 0., ..., 0., 0., 0.],\n",
       "           [0., 0., 0., ..., 0., 0., 0.]],\n",
       "\n",
       "          [[0., 0., 0., ..., 0., 0., 0.],\n",
       "           [0., 0., 0., ..., 0., 0., 0.],\n",
       "           [0., 0., 0., ..., 0., 0., 0.],\n",
       "           [0., 0., 0., ..., 0., 0., 0.],\n",
       "           [0., 0., 0., ..., 0., 0., 0.],\n",
       "           [0., 0., 0., ..., 0., 0., 0.]],\n",
       "\n",
       "          [[0., 0., 0., ..., 0., 0., 0.],\n",
       "           [0., 0., 0., ..., 0., 0., 0.],\n",
       "           [0., 0., 0., ..., 0., 0., 0.],\n",
       "           [0., 0., 0., ..., 0., 0., 0.],\n",
       "           [0., 0., 0., ..., 0., 0., 0.],\n",
       "           [0., 0., 0., ..., 0., 0., 0.]]],\n",
       "\n",
       "\n",
       "         [[[0., 0., 0., ..., 0., 0., 0.],\n",
       "           [0., 0., 0., ..., 0., 0., 0.],\n",
       "           [0., 0., 0., ..., 0., 0., 0.],\n",
       "           [0., 0., 0., ..., 0., 0., 0.],\n",
       "           [0., 0., 0., ..., 0., 0., 0.],\n",
       "           [0., 0., 0., ..., 0., 0., 0.]],\n",
       "\n",
       "          [[0., 0., 0., ..., 0., 0., 0.],\n",
       "           [0., 0., 0., ..., 0., 0., 0.],\n",
       "           [0., 0., 0., ..., 0., 0., 0.],\n",
       "           [0., 0., 0., ..., 0., 0., 0.],\n",
       "           [0., 0., 0., ..., 0., 0., 0.],\n",
       "           [0., 0., 0., ..., 0., 0., 0.]],\n",
       "\n",
       "          [[0., 0., 0., ..., 0., 0., 0.],\n",
       "           [0., 0., 0., ..., 0., 0., 0.],\n",
       "           [0., 0., 0., ..., 0., 0., 0.],\n",
       "           [0., 0., 0., ..., 0., 0., 0.],\n",
       "           [0., 0., 0., ..., 0., 0., 0.],\n",
       "           [0., 0., 0., ..., 0., 0., 0.]],\n",
       "\n",
       "          [[0., 0., 0., ..., 0., 0., 0.],\n",
       "           [0., 0., 0., ..., 0., 0., 0.],\n",
       "           [0., 0., 0., ..., 0., 0., 0.],\n",
       "           [0., 0., 0., ..., 0., 0., 0.],\n",
       "           [0., 0., 0., ..., 0., 0., 0.],\n",
       "           [0., 0., 0., ..., 0., 0., 0.]],\n",
       "\n",
       "          [[0., 0., 0., ..., 0., 0., 0.],\n",
       "           [0., 0., 0., ..., 0., 0., 0.],\n",
       "           [0., 0., 0., ..., 0., 0., 0.],\n",
       "           [0., 0., 0., ..., 0., 0., 0.],\n",
       "           [0., 0., 0., ..., 0., 0., 0.],\n",
       "           [0., 0., 0., ..., 0., 0., 0.]]],\n",
       "\n",
       "\n",
       "         [[[0., 0., 0., ..., 0., 0., 0.],\n",
       "           [0., 0., 0., ..., 0., 0., 0.],\n",
       "           [0., 0., 0., ..., 0., 0., 0.],\n",
       "           [0., 0., 0., ..., 0., 0., 0.],\n",
       "           [0., 0., 0., ..., 0., 0., 0.],\n",
       "           [0., 0., 0., ..., 0., 0., 0.]],\n",
       "\n",
       "          [[0., 0., 0., ..., 0., 0., 0.],\n",
       "           [0., 0., 0., ..., 0., 0., 0.],\n",
       "           [0., 0., 0., ..., 0., 0., 0.],\n",
       "           [0., 0., 0., ..., 0., 0., 0.],\n",
       "           [0., 0., 0., ..., 0., 0., 0.],\n",
       "           [0., 0., 0., ..., 0., 0., 0.]],\n",
       "\n",
       "          [[0., 0., 0., ..., 0., 0., 0.],\n",
       "           [0., 0., 0., ..., 0., 0., 0.],\n",
       "           [0., 0., 0., ..., 0., 0., 0.],\n",
       "           [0., 0., 0., ..., 0., 0., 0.],\n",
       "           [0., 0., 0., ..., 0., 0., 0.],\n",
       "           [0., 0., 0., ..., 0., 0., 0.]],\n",
       "\n",
       "          [[0., 0., 0., ..., 0., 0., 0.],\n",
       "           [0., 0., 0., ..., 0., 0., 0.],\n",
       "           [0., 0., 0., ..., 0., 0., 0.],\n",
       "           [0., 0., 0., ..., 0., 0., 0.],\n",
       "           [0., 0., 0., ..., 0., 0., 0.],\n",
       "           [0., 0., 0., ..., 0., 0., 0.]],\n",
       "\n",
       "          [[0., 0., 0., ..., 0., 0., 0.],\n",
       "           [0., 0., 0., ..., 0., 0., 0.],\n",
       "           [0., 0., 0., ..., 0., 0., 0.],\n",
       "           [0., 0., 0., ..., 0., 0., 0.],\n",
       "           [0., 0., 0., ..., 0., 0., 0.],\n",
       "           [0., 0., 0., ..., 0., 0., 0.]]],\n",
       "\n",
       "\n",
       "         [[[0., 0., 0., ..., 0., 0., 0.],\n",
       "           [0., 0., 0., ..., 0., 0., 0.],\n",
       "           [0., 0., 0., ..., 0., 0., 0.],\n",
       "           [0., 0., 0., ..., 0., 0., 0.],\n",
       "           [0., 0., 0., ..., 0., 0., 0.],\n",
       "           [0., 0., 0., ..., 0., 0., 0.]],\n",
       "\n",
       "          [[0., 0., 0., ..., 0., 0., 0.],\n",
       "           [0., 0., 0., ..., 0., 0., 0.],\n",
       "           [0., 0., 0., ..., 0., 0., 0.],\n",
       "           [0., 0., 0., ..., 0., 0., 0.],\n",
       "           [0., 0., 0., ..., 0., 0., 0.],\n",
       "           [0., 0., 0., ..., 0., 0., 0.]],\n",
       "\n",
       "          [[0., 0., 0., ..., 0., 0., 0.],\n",
       "           [0., 0., 0., ..., 0., 0., 0.],\n",
       "           [0., 0., 0., ..., 0., 0., 0.],\n",
       "           [0., 0., 0., ..., 0., 0., 0.],\n",
       "           [0., 0., 0., ..., 0., 0., 0.],\n",
       "           [0., 0., 0., ..., 0., 0., 0.]],\n",
       "\n",
       "          [[0., 0., 0., ..., 0., 0., 0.],\n",
       "           [0., 0., 0., ..., 0., 0., 0.],\n",
       "           [0., 0., 0., ..., 0., 0., 0.],\n",
       "           [0., 0., 0., ..., 0., 0., 0.],\n",
       "           [0., 0., 0., ..., 0., 0., 0.],\n",
       "           [0., 0., 0., ..., 0., 0., 0.]],\n",
       "\n",
       "          [[0., 0., 0., ..., 0., 0., 0.],\n",
       "           [0., 0., 0., ..., 0., 0., 0.],\n",
       "           [0., 0., 0., ..., 0., 0., 0.],\n",
       "           [0., 0., 0., ..., 0., 0., 0.],\n",
       "           [0., 0., 0., ..., 0., 0., 0.],\n",
       "           [0., 0., 0., ..., 0., 0., 0.]]]]]])"
      ]
     },
     "execution_count": 57,
     "metadata": {},
     "output_type": "execute_result"
    }
   ],
   "source": [
    "arr"
   ]
  },
  {
   "cell_type": "code",
   "execution_count": 59,
   "metadata": {},
   "outputs": [
    {
     "data": {
      "text/plain": [
       "array([1., 1., 1.])"
      ]
     },
     "execution_count": 59,
     "metadata": {},
     "output_type": "execute_result"
    }
   ],
   "source": [
    "np.ones(3)"
   ]
  },
  {
   "cell_type": "code",
   "execution_count": 60,
   "metadata": {},
   "outputs": [
    {
     "data": {
      "text/plain": [
       "array([[1., 1.],\n",
       "       [1., 1.]])"
      ]
     },
     "execution_count": 60,
     "metadata": {},
     "output_type": "execute_result"
    }
   ],
   "source": [
    "np.ones((2,2))"
   ]
  },
  {
   "cell_type": "code",
   "execution_count": 63,
   "metadata": {},
   "outputs": [
    {
     "data": {
      "text/plain": [
       "array([[1., 0., 0., 0., 0., 0., 0., 0., 0., 0.],\n",
       "       [0., 1., 0., 0., 0., 0., 0., 0., 0., 0.],\n",
       "       [0., 0., 1., 0., 0., 0., 0., 0., 0., 0.],\n",
       "       [0., 0., 0., 1., 0., 0., 0., 0., 0., 0.],\n",
       "       [0., 0., 0., 0., 1., 0., 0., 0., 0., 0.],\n",
       "       [0., 0., 0., 0., 0., 1., 0., 0., 0., 0.],\n",
       "       [0., 0., 0., 0., 0., 0., 1., 0., 0., 0.],\n",
       "       [0., 0., 0., 0., 0., 0., 0., 1., 0., 0.],\n",
       "       [0., 0., 0., 0., 0., 0., 0., 0., 1., 0.],\n",
       "       [0., 0., 0., 0., 0., 0., 0., 0., 0., 1.]])"
      ]
     },
     "execution_count": 63,
     "metadata": {},
     "output_type": "execute_result"
    }
   ],
   "source": [
    "np.eye(10)"
   ]
  },
  {
   "cell_type": "code",
   "execution_count": 64,
   "metadata": {},
   "outputs": [],
   "source": [
    "#setando valores em uma matriz já criada"
   ]
  },
  {
   "cell_type": "code",
   "execution_count": 66,
   "metadata": {},
   "outputs": [],
   "source": [
    "arr = np.eye(3)"
   ]
  },
  {
   "cell_type": "code",
   "execution_count": 67,
   "metadata": {},
   "outputs": [
    {
     "data": {
      "text/plain": [
       "array([[1., 0., 0.],\n",
       "       [0., 1., 0.],\n",
       "       [0., 0., 1.]])"
      ]
     },
     "execution_count": 67,
     "metadata": {},
     "output_type": "execute_result"
    }
   ],
   "source": [
    "arr"
   ]
  },
  {
   "cell_type": "code",
   "execution_count": 68,
   "metadata": {},
   "outputs": [],
   "source": [
    "arr[0][2] = 3"
   ]
  },
  {
   "cell_type": "code",
   "execution_count": 69,
   "metadata": {},
   "outputs": [
    {
     "data": {
      "text/plain": [
       "array([[1., 0., 3.],\n",
       "       [0., 1., 0.],\n",
       "       [0., 0., 1.]])"
      ]
     },
     "execution_count": 69,
     "metadata": {},
     "output_type": "execute_result"
    }
   ],
   "source": [
    "arr"
   ]
  },
  {
   "cell_type": "code",
   "execution_count": 70,
   "metadata": {},
   "outputs": [],
   "source": [
    "arr[2][1] = 5"
   ]
  },
  {
   "cell_type": "code",
   "execution_count": 71,
   "metadata": {},
   "outputs": [
    {
     "data": {
      "text/plain": [
       "array([[1., 0., 3.],\n",
       "       [0., 1., 0.],\n",
       "       [0., 5., 1.]])"
      ]
     },
     "execution_count": 71,
     "metadata": {},
     "output_type": "execute_result"
    }
   ],
   "source": [
    "arr"
   ]
  },
  {
   "cell_type": "code",
   "execution_count": 72,
   "metadata": {},
   "outputs": [
    {
     "data": {
      "text/plain": [
       "array([ 0,  1,  2,  3,  4,  5,  6,  7,  8,  9, 10, 11, 12, 13, 14, 15, 16,\n",
       "       17, 18, 19])"
      ]
     },
     "execution_count": 72,
     "metadata": {},
     "output_type": "execute_result"
    }
   ],
   "source": [
    "np.arange(20)"
   ]
  },
  {
   "cell_type": "code",
   "execution_count": 73,
   "metadata": {},
   "outputs": [],
   "source": [
    "#mudando a ordem da matriz"
   ]
  },
  {
   "cell_type": "code",
   "execution_count": 74,
   "metadata": {},
   "outputs": [
    {
     "data": {
      "text/plain": [
       "array([[ 0,  1,  2,  3,  4],\n",
       "       [ 5,  6,  7,  8,  9],\n",
       "       [10, 11, 12, 13, 14],\n",
       "       [15, 16, 17, 18, 19]])"
      ]
     },
     "execution_count": 74,
     "metadata": {},
     "output_type": "execute_result"
    }
   ],
   "source": [
    "np.arange(20).reshape(4,5)"
   ]
  },
  {
   "cell_type": "code",
   "execution_count": 75,
   "metadata": {},
   "outputs": [
    {
     "data": {
      "text/plain": [
       "array([[ 0,  1,  2,  3],\n",
       "       [ 4,  5,  6,  7],\n",
       "       [ 8,  9, 10, 11],\n",
       "       [12, 13, 14, 15],\n",
       "       [16, 17, 18, 19]])"
      ]
     },
     "execution_count": 75,
     "metadata": {},
     "output_type": "execute_result"
    }
   ],
   "source": [
    "np.arange(20).reshape(5,4)"
   ]
  },
  {
   "cell_type": "code",
   "execution_count": 77,
   "metadata": {},
   "outputs": [
    {
     "data": {
      "text/plain": [
       "array([[[0, 1],\n",
       "        [2, 3]],\n",
       "\n",
       "       [[4, 5],\n",
       "        [6, 7]]])"
      ]
     },
     "execution_count": 77,
     "metadata": {},
     "output_type": "execute_result"
    }
   ],
   "source": [
    "np.arange(8).reshape(2,2,2)"
   ]
  },
  {
   "cell_type": "code",
   "execution_count": 88,
   "metadata": {},
   "outputs": [],
   "source": [
    "a = [1]"
   ]
  },
  {
   "cell_type": "code",
   "execution_count": 89,
   "metadata": {},
   "outputs": [],
   "source": [
    "b = a.copy()"
   ]
  },
  {
   "cell_type": "code",
   "execution_count": 90,
   "metadata": {},
   "outputs": [],
   "source": [
    "b[0] = b[0] + 1"
   ]
  },
  {
   "cell_type": "code",
   "execution_count": 91,
   "metadata": {},
   "outputs": [
    {
     "data": {
      "text/plain": [
       "[1]"
      ]
     },
     "execution_count": 91,
     "metadata": {},
     "output_type": "execute_result"
    }
   ],
   "source": [
    "a"
   ]
  },
  {
   "cell_type": "code",
   "execution_count": 92,
   "metadata": {},
   "outputs": [
    {
     "data": {
      "text/plain": [
       "[2]"
      ]
     },
     "execution_count": 92,
     "metadata": {},
     "output_type": "execute_result"
    }
   ],
   "source": [
    "b"
   ]
  },
  {
   "cell_type": "code",
   "execution_count": 97,
   "metadata": {},
   "outputs": [],
   "source": [
    "def test(v):\n",
    "    for i,j in enumerate(v):\n",
    "        v[i] = v[i] * 1000"
   ]
  },
  {
   "cell_type": "code",
   "execution_count": 98,
   "metadata": {},
   "outputs": [],
   "source": [
    "x = [1,2,3,4,5]"
   ]
  },
  {
   "cell_type": "code",
   "execution_count": 99,
   "metadata": {},
   "outputs": [],
   "source": [
    "test(x)"
   ]
  },
  {
   "cell_type": "code",
   "execution_count": 100,
   "metadata": {},
   "outputs": [
    {
     "data": {
      "text/plain": [
       "[1000, 2000, 3000, 4000, 5000]"
      ]
     },
     "execution_count": 100,
     "metadata": {},
     "output_type": "execute_result"
    }
   ],
   "source": [
    "x"
   ]
  },
  {
   "cell_type": "code",
   "execution_count": 110,
   "metadata": {},
   "outputs": [],
   "source": [
    "arr = np.arange(5)"
   ]
  },
  {
   "cell_type": "code",
   "execution_count": 111,
   "metadata": {},
   "outputs": [],
   "source": [
    "arr2 = arr.copy()"
   ]
  },
  {
   "cell_type": "code",
   "execution_count": 112,
   "metadata": {},
   "outputs": [],
   "source": [
    "arr2[0] = 112391829"
   ]
  },
  {
   "cell_type": "code",
   "execution_count": 113,
   "metadata": {},
   "outputs": [
    {
     "data": {
      "text/plain": [
       "array([112391829,         1,         2,         3,         4])"
      ]
     },
     "execution_count": 113,
     "metadata": {},
     "output_type": "execute_result"
    }
   ],
   "source": [
    "arr2"
   ]
  },
  {
   "cell_type": "code",
   "execution_count": 114,
   "metadata": {},
   "outputs": [
    {
     "data": {
      "text/plain": [
       "array([0, 1, 2, 3, 4])"
      ]
     },
     "execution_count": 114,
     "metadata": {},
     "output_type": "execute_result"
    }
   ],
   "source": [
    "arr"
   ]
  },
  {
   "cell_type": "code",
   "execution_count": 116,
   "metadata": {},
   "outputs": [],
   "source": [
    "arr = np.arange(20).reshape(5,4)"
   ]
  },
  {
   "cell_type": "code",
   "execution_count": 117,
   "metadata": {},
   "outputs": [
    {
     "data": {
      "text/plain": [
       "array([[ 0,  1,  2,  3],\n",
       "       [ 4,  5,  6,  7],\n",
       "       [ 8,  9, 10, 11],\n",
       "       [12, 13, 14, 15],\n",
       "       [16, 17, 18, 19]])"
      ]
     },
     "execution_count": 117,
     "metadata": {},
     "output_type": "execute_result"
    }
   ],
   "source": [
    "arr"
   ]
  },
  {
   "cell_type": "code",
   "execution_count": 119,
   "metadata": {},
   "outputs": [
    {
     "data": {
      "text/plain": [
       "array([[ 6,  7],\n",
       "       [10, 11]])"
      ]
     },
     "execution_count": 119,
     "metadata": {},
     "output_type": "execute_result"
    }
   ],
   "source": [
    "arr[1:3,2:4]"
   ]
  },
  {
   "cell_type": "code",
   "execution_count": 120,
   "metadata": {},
   "outputs": [
    {
     "data": {
      "text/plain": [
       "array([ 0,  4,  8, 12, 16])"
      ]
     },
     "execution_count": 120,
     "metadata": {},
     "output_type": "execute_result"
    }
   ],
   "source": [
    "arr[:,0]"
   ]
  },
  {
   "cell_type": "code",
   "execution_count": 122,
   "metadata": {},
   "outputs": [
    {
     "data": {
      "text/plain": [
       "array([[14, 15],\n",
       "       [18, 19]])"
      ]
     },
     "execution_count": 122,
     "metadata": {},
     "output_type": "execute_result"
    }
   ],
   "source": [
    "arr[3:,2:]"
   ]
  },
  {
   "cell_type": "code",
   "execution_count": 123,
   "metadata": {},
   "outputs": [
    {
     "data": {
      "text/plain": [
       "array([[ 0,  1,  2,  3],\n",
       "       [ 4,  5,  6,  7],\n",
       "       [ 8,  9, 10, 11],\n",
       "       [12, 13, 14, 15],\n",
       "       [16, 17, 18, 19]])"
      ]
     },
     "execution_count": 123,
     "metadata": {},
     "output_type": "execute_result"
    }
   ],
   "source": [
    "arr[:]"
   ]
  },
  {
   "cell_type": "code",
   "execution_count": 124,
   "metadata": {},
   "outputs": [],
   "source": [
    "v = [1,2,3,4]"
   ]
  },
  {
   "cell_type": "code",
   "execution_count": 125,
   "metadata": {},
   "outputs": [
    {
     "data": {
      "text/plain": [
       "True"
      ]
     },
     "execution_count": 125,
     "metadata": {},
     "output_type": "execute_result"
    }
   ],
   "source": [
    "2 in v"
   ]
  },
  {
   "cell_type": "code",
   "execution_count": 126,
   "metadata": {},
   "outputs": [
    {
     "data": {
      "text/plain": [
       "False"
      ]
     },
     "execution_count": 126,
     "metadata": {},
     "output_type": "execute_result"
    }
   ],
   "source": [
    "5 in v"
   ]
  },
  {
   "cell_type": "code",
   "execution_count": 127,
   "metadata": {},
   "outputs": [
    {
     "data": {
      "text/plain": [
       "array([[ 0,  1,  2,  3],\n",
       "       [ 4,  5,  6,  7],\n",
       "       [ 8,  9, 10, 11],\n",
       "       [12, 13, 14, 15],\n",
       "       [16, 17, 18, 19]])"
      ]
     },
     "execution_count": 127,
     "metadata": {},
     "output_type": "execute_result"
    }
   ],
   "source": [
    "arr"
   ]
  },
  {
   "cell_type": "code",
   "execution_count": 135,
   "metadata": {},
   "outputs": [],
   "source": [
    "arr2 = np.arange(9).reshape(3,3)"
   ]
  },
  {
   "cell_type": "code",
   "execution_count": 136,
   "metadata": {},
   "outputs": [
    {
     "data": {
      "text/plain": [
       "array([[0, 1, 2],\n",
       "       [3, 4, 5],\n",
       "       [6, 7, 8]])"
      ]
     },
     "execution_count": 136,
     "metadata": {},
     "output_type": "execute_result"
    }
   ],
   "source": [
    "arr2"
   ]
  },
  {
   "cell_type": "code",
   "execution_count": 128,
   "metadata": {},
   "outputs": [
    {
     "data": {
      "text/plain": [
       "True"
      ]
     },
     "execution_count": 128,
     "metadata": {},
     "output_type": "execute_result"
    }
   ],
   "source": [
    "9 in arr"
   ]
  },
  {
   "cell_type": "code",
   "execution_count": 129,
   "metadata": {},
   "outputs": [
    {
     "data": {
      "text/plain": [
       "False"
      ]
     },
     "execution_count": 129,
     "metadata": {},
     "output_type": "execute_result"
    }
   ],
   "source": [
    "34 in arr"
   ]
  },
  {
   "cell_type": "code",
   "execution_count": 132,
   "metadata": {},
   "outputs": [],
   "source": [
    "arr = np.arange(4)"
   ]
  },
  {
   "cell_type": "code",
   "execution_count": 133,
   "metadata": {},
   "outputs": [
    {
     "data": {
      "text/plain": [
       "array([0, 1, 2, 3])"
      ]
     },
     "execution_count": 133,
     "metadata": {},
     "output_type": "execute_result"
    }
   ],
   "source": [
    "arr"
   ]
  },
  {
   "cell_type": "code",
   "execution_count": 134,
   "metadata": {},
   "outputs": [
    {
     "data": {
      "text/plain": [
       "array([4, 5, 6, 7])"
      ]
     },
     "execution_count": 134,
     "metadata": {},
     "output_type": "execute_result"
    }
   ],
   "source": [
    "arr + 4"
   ]
  },
  {
   "cell_type": "code",
   "execution_count": 137,
   "metadata": {},
   "outputs": [
    {
     "data": {
      "text/plain": [
       "array([[ 4,  5,  6],\n",
       "       [ 7,  8,  9],\n",
       "       [10, 11, 12]])"
      ]
     },
     "execution_count": 137,
     "metadata": {},
     "output_type": "execute_result"
    }
   ],
   "source": [
    "arr2 + 4"
   ]
  },
  {
   "cell_type": "code",
   "execution_count": 138,
   "metadata": {},
   "outputs": [
    {
     "data": {
      "text/plain": [
       "array([-10,  -9,  -8,  -7])"
      ]
     },
     "execution_count": 138,
     "metadata": {},
     "output_type": "execute_result"
    }
   ],
   "source": [
    "arr - 10"
   ]
  },
  {
   "cell_type": "code",
   "execution_count": 139,
   "metadata": {},
   "outputs": [
    {
     "data": {
      "text/plain": [
       "array([[-10,  -9,  -8],\n",
       "       [ -7,  -6,  -5],\n",
       "       [ -4,  -3,  -2]])"
      ]
     },
     "execution_count": 139,
     "metadata": {},
     "output_type": "execute_result"
    }
   ],
   "source": [
    "arr2 - 10"
   ]
  },
  {
   "cell_type": "code",
   "execution_count": 140,
   "metadata": {},
   "outputs": [
    {
     "data": {
      "text/plain": [
       "array([0, 2, 4, 6])"
      ]
     },
     "execution_count": 140,
     "metadata": {},
     "output_type": "execute_result"
    }
   ],
   "source": [
    "arr * 2"
   ]
  },
  {
   "cell_type": "code",
   "execution_count": 141,
   "metadata": {},
   "outputs": [
    {
     "data": {
      "text/plain": [
       "array([[ 0,  2,  4],\n",
       "       [ 6,  8, 10],\n",
       "       [12, 14, 16]])"
      ]
     },
     "execution_count": 141,
     "metadata": {},
     "output_type": "execute_result"
    }
   ],
   "source": [
    "arr2 * 2"
   ]
  },
  {
   "cell_type": "code",
   "execution_count": 143,
   "metadata": {},
   "outputs": [
    {
     "data": {
      "text/plain": [
       "[1, 2, 1, 2, 1, 2]"
      ]
     },
     "execution_count": 143,
     "metadata": {},
     "output_type": "execute_result"
    }
   ],
   "source": [
    "[1,2] * 3"
   ]
  },
  {
   "cell_type": "code",
   "execution_count": 142,
   "metadata": {},
   "outputs": [
    {
     "data": {
      "text/plain": [
       "'aaaaaaaaaaaaaaaaaaaaaaaaaaaaaa'"
      ]
     },
     "execution_count": 142,
     "metadata": {},
     "output_type": "execute_result"
    }
   ],
   "source": [
    "'a' * 30 "
   ]
  },
  {
   "cell_type": "code",
   "execution_count": 144,
   "metadata": {},
   "outputs": [
    {
     "data": {
      "text/plain": [
       "array([0. , 0.5, 1. , 1.5])"
      ]
     },
     "execution_count": 144,
     "metadata": {},
     "output_type": "execute_result"
    }
   ],
   "source": [
    "arr / 2"
   ]
  },
  {
   "cell_type": "code",
   "execution_count": 145,
   "metadata": {},
   "outputs": [
    {
     "data": {
      "text/plain": [
       "array([[0. , 0.5, 1. ],\n",
       "       [1.5, 2. , 2.5],\n",
       "       [3. , 3.5, 4. ]])"
      ]
     },
     "execution_count": 145,
     "metadata": {},
     "output_type": "execute_result"
    }
   ],
   "source": [
    "arr2 / 2"
   ]
  },
  {
   "cell_type": "code",
   "execution_count": 147,
   "metadata": {},
   "outputs": [
    {
     "name": "stderr",
     "output_type": "stream",
     "text": [
      "C:\\Users\\Bruno.Miura\\AppData\\Local\\Continuum\\anaconda\\envs\\curso_python\\lib\\site-packages\\ipykernel_launcher.py:1: RuntimeWarning: divide by zero encountered in true_divide\n",
      "  \"\"\"Entry point for launching an IPython kernel.\n",
      "C:\\Users\\Bruno.Miura\\AppData\\Local\\Continuum\\anaconda\\envs\\curso_python\\lib\\site-packages\\ipykernel_launcher.py:1: RuntimeWarning: invalid value encountered in true_divide\n",
      "  \"\"\"Entry point for launching an IPython kernel.\n"
     ]
    },
    {
     "data": {
      "text/plain": [
       "array([nan, inf, inf, inf])"
      ]
     },
     "execution_count": 147,
     "metadata": {},
     "output_type": "execute_result"
    }
   ],
   "source": [
    "arr / 0"
   ]
  },
  {
   "cell_type": "code",
   "execution_count": 148,
   "metadata": {},
   "outputs": [
    {
     "data": {
      "text/plain": [
       "array([0.        , 1.        , 1.41421356, 1.73205081])"
      ]
     },
     "execution_count": 148,
     "metadata": {},
     "output_type": "execute_result"
    }
   ],
   "source": [
    "np.sqrt(arr)"
   ]
  },
  {
   "cell_type": "code",
   "execution_count": 149,
   "metadata": {},
   "outputs": [
    {
     "data": {
      "text/plain": [
       "array([[0.        , 1.        , 1.41421356],\n",
       "       [1.73205081, 2.        , 2.23606798],\n",
       "       [2.44948974, 2.64575131, 2.82842712]])"
      ]
     },
     "execution_count": 149,
     "metadata": {},
     "output_type": "execute_result"
    }
   ],
   "source": [
    "np.sqrt(arr2)"
   ]
  },
  {
   "cell_type": "code",
   "execution_count": 150,
   "metadata": {},
   "outputs": [
    {
     "data": {
      "text/plain": [
       "array([0, 1, 2, 3])"
      ]
     },
     "execution_count": 150,
     "metadata": {},
     "output_type": "execute_result"
    }
   ],
   "source": [
    "arr"
   ]
  },
  {
   "cell_type": "code",
   "execution_count": 151,
   "metadata": {},
   "outputs": [
    {
     "data": {
      "text/plain": [
       "array([[0, 1, 2],\n",
       "       [3, 4, 5],\n",
       "       [6, 7, 8]])"
      ]
     },
     "execution_count": 151,
     "metadata": {},
     "output_type": "execute_result"
    }
   ],
   "source": [
    "arr2"
   ]
  },
  {
   "cell_type": "code",
   "execution_count": 152,
   "metadata": {},
   "outputs": [
    {
     "data": {
      "text/plain": [
       "6"
      ]
     },
     "execution_count": 152,
     "metadata": {},
     "output_type": "execute_result"
    }
   ],
   "source": [
    "np.sum(arr)"
   ]
  },
  {
   "cell_type": "code",
   "execution_count": 153,
   "metadata": {},
   "outputs": [
    {
     "data": {
      "text/plain": [
       "36"
      ]
     },
     "execution_count": 153,
     "metadata": {},
     "output_type": "execute_result"
    }
   ],
   "source": [
    "np.sum(arr2)"
   ]
  },
  {
   "cell_type": "code",
   "execution_count": 154,
   "metadata": {},
   "outputs": [
    {
     "data": {
      "text/plain": [
       "6"
      ]
     },
     "execution_count": 154,
     "metadata": {},
     "output_type": "execute_result"
    }
   ],
   "source": [
    "arr.sum()"
   ]
  },
  {
   "cell_type": "code",
   "execution_count": 155,
   "metadata": {},
   "outputs": [
    {
     "data": {
      "text/plain": [
       "36"
      ]
     },
     "execution_count": 155,
     "metadata": {},
     "output_type": "execute_result"
    }
   ],
   "source": [
    "arr2.sum()"
   ]
  },
  {
   "cell_type": "code",
   "execution_count": 156,
   "metadata": {},
   "outputs": [
    {
     "data": {
      "text/plain": [
       "1.5"
      ]
     },
     "execution_count": 156,
     "metadata": {},
     "output_type": "execute_result"
    }
   ],
   "source": [
    "np.mean(arr)"
   ]
  },
  {
   "cell_type": "code",
   "execution_count": 157,
   "metadata": {},
   "outputs": [
    {
     "data": {
      "text/plain": [
       "4.0"
      ]
     },
     "execution_count": 157,
     "metadata": {},
     "output_type": "execute_result"
    }
   ],
   "source": [
    "np.mean(arr2)"
   ]
  },
  {
   "cell_type": "code",
   "execution_count": 158,
   "metadata": {},
   "outputs": [
    {
     "data": {
      "text/plain": [
       "1.118033988749895"
      ]
     },
     "execution_count": 158,
     "metadata": {},
     "output_type": "execute_result"
    }
   ],
   "source": [
    "np.std(arr)"
   ]
  },
  {
   "cell_type": "code",
   "execution_count": 159,
   "metadata": {},
   "outputs": [
    {
     "data": {
      "text/plain": [
       "2.581988897471611"
      ]
     },
     "execution_count": 159,
     "metadata": {},
     "output_type": "execute_result"
    }
   ],
   "source": [
    "np.std(arr2)"
   ]
  },
  {
   "cell_type": "code",
   "execution_count": 160,
   "metadata": {},
   "outputs": [],
   "source": [
    "#operações com linha e coluna"
   ]
  },
  {
   "cell_type": "code",
   "execution_count": 161,
   "metadata": {},
   "outputs": [
    {
     "data": {
      "text/plain": [
       "array([[0, 1, 2],\n",
       "       [3, 4, 5],\n",
       "       [6, 7, 8]])"
      ]
     },
     "execution_count": 161,
     "metadata": {},
     "output_type": "execute_result"
    }
   ],
   "source": [
    "arr2"
   ]
  },
  {
   "cell_type": "code",
   "execution_count": 162,
   "metadata": {},
   "outputs": [
    {
     "data": {
      "text/plain": [
       "array([ 9, 12, 15])"
      ]
     },
     "execution_count": 162,
     "metadata": {},
     "output_type": "execute_result"
    }
   ],
   "source": [
    "arr2.sum(axis=0)"
   ]
  },
  {
   "cell_type": "code",
   "execution_count": 163,
   "metadata": {},
   "outputs": [
    {
     "data": {
      "text/plain": [
       "array([ 3, 12, 21])"
      ]
     },
     "execution_count": 163,
     "metadata": {},
     "output_type": "execute_result"
    }
   ],
   "source": [
    "arr2.sum(axis=1)"
   ]
  },
  {
   "cell_type": "code",
   "execution_count": 166,
   "metadata": {},
   "outputs": [
    {
     "data": {
      "text/plain": [
       "array([1., 4., 7.])"
      ]
     },
     "execution_count": 166,
     "metadata": {},
     "output_type": "execute_result"
    }
   ],
   "source": [
    "arr2.mean(axis=1)"
   ]
  },
  {
   "cell_type": "code",
   "execution_count": 167,
   "metadata": {},
   "outputs": [
    {
     "data": {
      "text/plain": [
       "array([3., 4., 5.])"
      ]
     },
     "execution_count": 167,
     "metadata": {},
     "output_type": "execute_result"
    }
   ],
   "source": [
    "arr2.mean(axis=0)"
   ]
  },
  {
   "cell_type": "code",
   "execution_count": null,
   "metadata": {},
   "outputs": [],
   "source": []
  }
 ],
 "metadata": {
  "kernelspec": {
   "display_name": "Python 3",
   "language": "python",
   "name": "python3"
  },
  "language_info": {
   "codemirror_mode": {
    "name": "ipython",
    "version": 3
   },
   "file_extension": ".py",
   "mimetype": "text/x-python",
   "name": "python",
   "nbconvert_exporter": "python",
   "pygments_lexer": "ipython3",
   "version": "3.6.10"
  }
 },
 "nbformat": 4,
 "nbformat_minor": 4
}
