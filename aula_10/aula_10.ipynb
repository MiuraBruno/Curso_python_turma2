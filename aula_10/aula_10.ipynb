{
 "cells": [
  {
   "cell_type": "code",
   "execution_count": 1,
   "metadata": {},
   "outputs": [],
   "source": [
    "#arquivos de configuração"
   ]
  },
  {
   "cell_type": "code",
   "execution_count": 2,
   "metadata": {},
   "outputs": [],
   "source": [
    "#https://docs.python.org/3/library/configparser.html"
   ]
  },
  {
   "cell_type": "markdown",
   "metadata": {},
   "source": [
    "## Objetivo\n",
    "Removendo hard code dos códigos, tornando tudo mais limpo, organizando e auxiliando para schedular"
   ]
  },
  {
   "cell_type": "code",
   "execution_count": 2,
   "metadata": {},
   "outputs": [],
   "source": [
    "from configparser import ConfigParser"
   ]
  },
  {
   "cell_type": "code",
   "execution_count": null,
   "metadata": {},
   "outputs": [],
   "source": [
    "path = 'jsdasdja/asdahasduas/njdansj'\n",
    "colunas = 'sdas;asjda;sdasnd'\n",
    "aux = 3\n",
    "string_cnx_sql = \"sjdajsdasd'\"\"\n",
    "user = 'asjdnajs'\n",
    "senha = 'dnajsda123123'"
   ]
  },
  {
   "cell_type": "code",
   "execution_count": 3,
   "metadata": {},
   "outputs": [],
   "source": [
    "#iniciar o metodo da biblioteca do arquivio de configuração\n",
    "config = ConfigParser()"
   ]
  },
  {
   "cell_type": "code",
   "execution_count": 4,
   "metadata": {},
   "outputs": [
    {
     "name": "stdout",
     "output_type": "stream",
     "text": [
      "<configparser.ConfigParser object at 0x000002ABD196B668>\n"
     ]
    }
   ],
   "source": [
    "print(config)"
   ]
  },
  {
   "cell_type": "code",
   "execution_count": 5,
   "metadata": {},
   "outputs": [
    {
     "data": {
      "text/plain": [
       "configparser.ConfigParser"
      ]
     },
     "execution_count": 5,
     "metadata": {},
     "output_type": "execute_result"
    }
   ],
   "source": [
    "type(config)"
   ]
  },
  {
   "cell_type": "code",
   "execution_count": 23,
   "metadata": {},
   "outputs": [
    {
     "data": {
      "text/plain": [
       "['BOOLEAN_STATES',\n",
       " 'NONSPACECRE',\n",
       " 'OPTCRE',\n",
       " 'OPTCRE_NV',\n",
       " 'SECTCRE',\n",
       " '_DEFAULT_INTERPOLATION',\n",
       " '_MutableMapping__marker',\n",
       " '_OPT_NV_TMPL',\n",
       " '_OPT_TMPL',\n",
       " '_SECT_TMPL',\n",
       " '__abstractmethods__',\n",
       " '__class__',\n",
       " '__contains__',\n",
       " '__delattr__',\n",
       " '__delitem__',\n",
       " '__dict__',\n",
       " '__dir__',\n",
       " '__doc__',\n",
       " '__eq__',\n",
       " '__format__',\n",
       " '__ge__',\n",
       " '__getattribute__',\n",
       " '__getitem__',\n",
       " '__gt__',\n",
       " '__hash__',\n",
       " '__init__',\n",
       " '__init_subclass__',\n",
       " '__iter__',\n",
       " '__le__',\n",
       " '__len__',\n",
       " '__lt__',\n",
       " '__module__',\n",
       " '__ne__',\n",
       " '__new__',\n",
       " '__reduce__',\n",
       " '__reduce_ex__',\n",
       " '__repr__',\n",
       " '__reversed__',\n",
       " '__setattr__',\n",
       " '__setitem__',\n",
       " '__sizeof__',\n",
       " '__slots__',\n",
       " '__str__',\n",
       " '__subclasshook__',\n",
       " '__weakref__',\n",
       " '_abc_cache',\n",
       " '_abc_negative_cache',\n",
       " '_abc_negative_cache_version',\n",
       " '_abc_registry',\n",
       " '_allow_no_value',\n",
       " '_comment_prefixes',\n",
       " '_convert_to_boolean',\n",
       " '_converters',\n",
       " '_defaults',\n",
       " '_delimiters',\n",
       " '_dict',\n",
       " '_empty_lines_in_values',\n",
       " '_get',\n",
       " '_get_conv',\n",
       " '_handle_error',\n",
       " '_inline_comment_prefixes',\n",
       " '_interpolation',\n",
       " '_join_multiline_values',\n",
       " '_optcre',\n",
       " '_proxies',\n",
       " '_read',\n",
       " '_sections',\n",
       " '_strict',\n",
       " '_unify_values',\n",
       " '_validate_value_types',\n",
       " '_write_section',\n",
       " 'add_section',\n",
       " 'clear',\n",
       " 'converters',\n",
       " 'default_section',\n",
       " 'defaults',\n",
       " 'get',\n",
       " 'getboolean',\n",
       " 'getfloat',\n",
       " 'getint',\n",
       " 'has_option',\n",
       " 'has_section',\n",
       " 'items',\n",
       " 'keys',\n",
       " 'options',\n",
       " 'optionxform',\n",
       " 'pop',\n",
       " 'popitem',\n",
       " 'read',\n",
       " 'read_dict',\n",
       " 'read_file',\n",
       " 'read_string',\n",
       " 'readfp',\n",
       " 'remove_option',\n",
       " 'remove_section',\n",
       " 'sections',\n",
       " 'set',\n",
       " 'setdefault',\n",
       " 'update',\n",
       " 'values',\n",
       " 'write']"
      ]
     },
     "execution_count": 23,
     "metadata": {},
     "output_type": "execute_result"
    }
   ],
   "source": [
    "dir(config)"
   ]
  },
  {
   "cell_type": "code",
   "execution_count": null,
   "metadata": {},
   "outputs": [],
   "source": [
    "#cofig[secao] ={chave:valor}"
   ]
  },
  {
   "cell_type": "code",
   "execution_count": 7,
   "metadata": {},
   "outputs": [],
   "source": [
    "config['Banco_origem'] = {\n",
    "        'str_cnx': 'sdjajsdbjasbjdab'\n",
    "        ,'user':'prod_001'\n",
    "        ,'password': 129837192837\n",
    "        ,'database': 'raw_zone'}"
   ]
  },
  {
   "cell_type": "code",
   "execution_count": 9,
   "metadata": {},
   "outputs": [],
   "source": [
    "config['Banco_destino'] = {        \n",
    "        'str_cnx': 'sdjajsdbjasasdasdasdabjdab'\n",
    "        ,'user':'prod_002'\n",
    "        ,'password': 1298188927823937192837\n",
    "        ,'database': 'RAW'}"
   ]
  },
  {
   "cell_type": "code",
   "execution_count": 10,
   "metadata": {},
   "outputs": [],
   "source": [
    "with open('cfg.ini','w') as f:\n",
    "    config.write(f)"
   ]
  },
  {
   "cell_type": "code",
   "execution_count": 11,
   "metadata": {},
   "outputs": [],
   "source": [
    "#appendando novas configurações no arquivo"
   ]
  },
  {
   "cell_type": "code",
   "execution_count": 12,
   "metadata": {},
   "outputs": [],
   "source": [
    "config2 = ConfigParser()"
   ]
  },
  {
   "cell_type": "code",
   "execution_count": 13,
   "metadata": {},
   "outputs": [],
   "source": [
    "config2['xxxx'] = {\n",
    "        'dados gerais': 12983}"
   ]
  },
  {
   "cell_type": "code",
   "execution_count": 14,
   "metadata": {},
   "outputs": [],
   "source": [
    "with open('cfg.ini','a') as f:\n",
    "    config2.write(f)"
   ]
  },
  {
   "cell_type": "code",
   "execution_count": 20,
   "metadata": {},
   "outputs": [],
   "source": [
    "with open('C:/Users/Bruno.Miura/Desktop/cfg.ini','a') as f:\n",
    "    config2.write(f)\n"
   ]
  },
  {
   "cell_type": "code",
   "execution_count": 15,
   "metadata": {},
   "outputs": [],
   "source": [
    "#consumir um arquivo de configuração"
   ]
  },
  {
   "cell_type": "code",
   "execution_count": 28,
   "metadata": {},
   "outputs": [],
   "source": [
    "read_cfg = ConfigParser()"
   ]
  },
  {
   "cell_type": "code",
   "execution_count": 29,
   "metadata": {},
   "outputs": [
    {
     "data": {
      "text/plain": [
       "['cfg.ini']"
      ]
     },
     "execution_count": 29,
     "metadata": {},
     "output_type": "execute_result"
    }
   ],
   "source": [
    "read_cfg.read('cfg.ini')"
   ]
  },
  {
   "cell_type": "code",
   "execution_count": 24,
   "metadata": {},
   "outputs": [
    {
     "data": {
      "text/plain": [
       "['BOOLEAN_STATES',\n",
       " 'NONSPACECRE',\n",
       " 'OPTCRE',\n",
       " 'OPTCRE_NV',\n",
       " 'SECTCRE',\n",
       " '_DEFAULT_INTERPOLATION',\n",
       " '_MutableMapping__marker',\n",
       " '_OPT_NV_TMPL',\n",
       " '_OPT_TMPL',\n",
       " '_SECT_TMPL',\n",
       " '__abstractmethods__',\n",
       " '__class__',\n",
       " '__contains__',\n",
       " '__delattr__',\n",
       " '__delitem__',\n",
       " '__dict__',\n",
       " '__dir__',\n",
       " '__doc__',\n",
       " '__eq__',\n",
       " '__format__',\n",
       " '__ge__',\n",
       " '__getattribute__',\n",
       " '__getitem__',\n",
       " '__gt__',\n",
       " '__hash__',\n",
       " '__init__',\n",
       " '__init_subclass__',\n",
       " '__iter__',\n",
       " '__le__',\n",
       " '__len__',\n",
       " '__lt__',\n",
       " '__module__',\n",
       " '__ne__',\n",
       " '__new__',\n",
       " '__reduce__',\n",
       " '__reduce_ex__',\n",
       " '__repr__',\n",
       " '__reversed__',\n",
       " '__setattr__',\n",
       " '__setitem__',\n",
       " '__sizeof__',\n",
       " '__slots__',\n",
       " '__str__',\n",
       " '__subclasshook__',\n",
       " '__weakref__',\n",
       " '_abc_cache',\n",
       " '_abc_negative_cache',\n",
       " '_abc_negative_cache_version',\n",
       " '_abc_registry',\n",
       " '_allow_no_value',\n",
       " '_comment_prefixes',\n",
       " '_convert_to_boolean',\n",
       " '_converters',\n",
       " '_defaults',\n",
       " '_delimiters',\n",
       " '_dict',\n",
       " '_empty_lines_in_values',\n",
       " '_get',\n",
       " '_get_conv',\n",
       " '_handle_error',\n",
       " '_inline_comment_prefixes',\n",
       " '_interpolation',\n",
       " '_join_multiline_values',\n",
       " '_optcre',\n",
       " '_proxies',\n",
       " '_read',\n",
       " '_sections',\n",
       " '_strict',\n",
       " '_unify_values',\n",
       " '_validate_value_types',\n",
       " '_write_section',\n",
       " 'add_section',\n",
       " 'clear',\n",
       " 'converters',\n",
       " 'default_section',\n",
       " 'defaults',\n",
       " 'get',\n",
       " 'getboolean',\n",
       " 'getfloat',\n",
       " 'getint',\n",
       " 'has_option',\n",
       " 'has_section',\n",
       " 'items',\n",
       " 'keys',\n",
       " 'options',\n",
       " 'optionxform',\n",
       " 'pop',\n",
       " 'popitem',\n",
       " 'read',\n",
       " 'read_dict',\n",
       " 'read_file',\n",
       " 'read_string',\n",
       " 'readfp',\n",
       " 'remove_option',\n",
       " 'remove_section',\n",
       " 'sections',\n",
       " 'set',\n",
       " 'setdefault',\n",
       " 'update',\n",
       " 'values',\n",
       " 'write']"
      ]
     },
     "execution_count": 24,
     "metadata": {},
     "output_type": "execute_result"
    }
   ],
   "source": [
    "dir(read_cfg)"
   ]
  },
  {
   "cell_type": "code",
   "execution_count": 30,
   "metadata": {},
   "outputs": [
    {
     "data": {
      "text/plain": [
       "['Banco_origem', 'Banco_destino']"
      ]
     },
     "execution_count": 30,
     "metadata": {},
     "output_type": "execute_result"
    }
   ],
   "source": [
    "read_cfg.sections()"
   ]
  },
  {
   "cell_type": "code",
   "execution_count": 32,
   "metadata": {},
   "outputs": [
    {
     "data": {
      "text/plain": [
       "False"
      ]
     },
     "execution_count": 32,
     "metadata": {},
     "output_type": "execute_result"
    }
   ],
   "source": [
    "'xx' in read_cfg"
   ]
  },
  {
   "cell_type": "code",
   "execution_count": 33,
   "metadata": {},
   "outputs": [
    {
     "data": {
      "text/plain": [
       "True"
      ]
     },
     "execution_count": 33,
     "metadata": {},
     "output_type": "execute_result"
    }
   ],
   "source": [
    "'Banco_origem' in read_cfg"
   ]
  },
  {
   "cell_type": "code",
   "execution_count": 34,
   "metadata": {},
   "outputs": [
    {
     "data": {
      "text/plain": [
       "['str_cnx', 'user', 'password', 'database']"
      ]
     },
     "execution_count": 34,
     "metadata": {},
     "output_type": "execute_result"
    }
   ],
   "source": [
    "read_cfg.options('Banco_origem')"
   ]
  },
  {
   "cell_type": "code",
   "execution_count": 35,
   "metadata": {},
   "outputs": [
    {
     "data": {
      "text/plain": [
       "'sdjajsdbjasbjdab'"
      ]
     },
     "execution_count": 35,
     "metadata": {},
     "output_type": "execute_result"
    }
   ],
   "source": [
    "read_cfg.get('Banco_origem','str_cnx')"
   ]
  },
  {
   "cell_type": "code",
   "execution_count": 36,
   "metadata": {},
   "outputs": [
    {
     "data": {
      "text/plain": [
       "'129837192837'"
      ]
     },
     "execution_count": 36,
     "metadata": {},
     "output_type": "execute_result"
    }
   ],
   "source": [
    "read_cfg.get('Banco_origem','password')"
   ]
  },
  {
   "cell_type": "code",
   "execution_count": 38,
   "metadata": {},
   "outputs": [
    {
     "data": {
      "text/plain": [
       "1298188927823937192837"
      ]
     },
     "execution_count": 38,
     "metadata": {},
     "output_type": "execute_result"
    }
   ],
   "source": [
    "eval(read_cfg.get('Banco_destino','password'))"
   ]
  },
  {
   "cell_type": "code",
   "execution_count": 40,
   "metadata": {},
   "outputs": [
    {
     "data": {
      "text/plain": [
       "['instrucoes.ini']"
      ]
     },
     "execution_count": 40,
     "metadata": {},
     "output_type": "execute_result"
    }
   ],
   "source": [
    "test = ConfigParser()\n",
    "test.read('instrucoes.ini')"
   ]
  },
  {
   "cell_type": "code",
   "execution_count": 41,
   "metadata": {},
   "outputs": [
    {
     "data": {
      "text/plain": [
       "['Simple Values',\n",
       " 'All Values Are Strings',\n",
       " 'Multiline Values',\n",
       " 'No Values',\n",
       " 'You can use comments',\n",
       " 'Sections Can Be Indented']"
      ]
     },
     "execution_count": 41,
     "metadata": {},
     "output_type": "execute_result"
    }
   ],
   "source": [
    "test.sections()"
   ]
  },
  {
   "cell_type": "code",
   "execution_count": 47,
   "metadata": {},
   "outputs": [
    {
     "name": "stdout",
     "output_type": "stream",
     "text": [
      "Simple Values\n",
      "------------------------------\n",
      "\tkey\n",
      "\t\tvalue\n",
      "______________________________\n",
      "\tspaces in keys\n",
      "\t\tallowed\n",
      "______________________________\n",
      "\tspaces in values\n",
      "\t\tallowed as well\n",
      "______________________________\n",
      "\tspaces around the delimiter\n",
      "\t\tobviously\n",
      "______________________________\n",
      "\tyou can also use\n",
      "\t\tto delimit keys from values\n",
      "______________________________\n",
      "All Values Are Strings\n",
      "------------------------------\n",
      "\tvalues like this\n",
      "\t\t1000000\n",
      "______________________________\n",
      "\tor this\n",
      "\t\t3.14159265359\n",
      "______________________________\n",
      "\tare they treated as numbers?\n",
      "\t\tno\n",
      "______________________________\n",
      "\tintegers, floats and booleans are held as\n",
      "\t\tstrings\n",
      "______________________________\n",
      "\tcan use the api to get converted values directly\n",
      "\t\ttrue\n",
      "______________________________\n",
      "Multiline Values\n",
      "------------------------------\n",
      "\tchorus\n",
      "\t\tI'm a lumberjack, and I'm okay\n",
      "I sleep all night and I work all day\n",
      "______________________________\n",
      "No Values\n",
      "------------------------------\n",
      "\tempty string value here\n",
      "\t\t\n",
      "______________________________\n",
      "You can use comments\n",
      "------------------------------\n",
      "Sections Can Be Indented\n",
      "------------------------------\n",
      "\tcan_values_be_as_well\n",
      "\t\tTrue\n",
      "______________________________\n",
      "\tdoes_that_mean_anything_special\n",
      "\t\tFalse\n",
      "______________________________\n",
      "\tpurpose\n",
      "\t\tformatting for readability\n",
      "______________________________\n",
      "\tmultiline_values\n",
      "\t\tare\n",
      "handled just fine as\n",
      "long as they are indented\n",
      "deeper than the first line\n",
      "of a value\n",
      "______________________________\n"
     ]
    }
   ],
   "source": [
    "from time import sleep\n",
    "for sec in test.sections():\n",
    "    print(sec)\n",
    "    print('-' * 30)\n",
    "    sleep(1)\n",
    "    for val in test.options(sec):\n",
    "        print('\\t' + val)\n",
    "        print('\\t\\t' + test.get(sec,val))\n",
    "        print('_' * 30)\n",
    "        sleep(1)"
   ]
  },
  {
   "cell_type": "code",
   "execution_count": 48,
   "metadata": {},
   "outputs": [
    {
     "name": "stdout",
     "output_type": "stream",
     "text": [
      "Banco_origem\n",
      "------------------------------\n",
      "\tstr_cnx\n",
      "\t\tsdjajsdbjasbjdab\n",
      "______________________________\n",
      "\tuser\n",
      "\t\tprod_001\n",
      "______________________________\n",
      "\tpassword\n",
      "\t\t129837192837\n",
      "______________________________\n",
      "\tdatabase\n",
      "\t\traw_zone\n",
      "______________________________\n",
      "Banco_destino\n",
      "------------------------------\n",
      "\tstr_cnx\n",
      "\t\tsdjajsdbjasasdasdasdabjdab\n",
      "______________________________\n",
      "\tuser\n",
      "\t\tprod_002\n",
      "______________________________\n",
      "\tpassword\n",
      "\t\t1298188927823937192837\n",
      "______________________________\n",
      "\tdatabase\n",
      "\t\tRAW\n",
      "______________________________\n"
     ]
    }
   ],
   "source": [
    "def extraindo_info(read_cfg):\n",
    "    for sec in read_cfg.sections():\n",
    "        print(sec)\n",
    "        print('-' * 30)\n",
    "        for val in read_cfg.options(sec):\n",
    "            print('\\t' + val)\n",
    "            print('\\t\\t' + read_cfg.get(sec,val))\n",
    "            print('_' * 30)\n"
   ]
  },
  {
   "cell_type": "code",
   "execution_count": 50,
   "metadata": {},
   "outputs": [],
   "source": [
    "read_cfg.clear()"
   ]
  },
  {
   "cell_type": "code",
   "execution_count": 52,
   "metadata": {},
   "outputs": [],
   "source": [
    "with open('cfg.ini', 'w') as f:\n",
    "    read_cfg.write(f)"
   ]
  },
  {
   "cell_type": "code",
   "execution_count": null,
   "metadata": {},
   "outputs": [],
   "source": []
  }
 ],
 "metadata": {
  "kernelspec": {
   "display_name": "Python 3",
   "language": "python",
   "name": "python3"
  },
  "language_info": {
   "codemirror_mode": {
    "name": "ipython",
    "version": 3
   },
   "file_extension": ".py",
   "mimetype": "text/x-python",
   "name": "python",
   "nbconvert_exporter": "python",
   "pygments_lexer": "ipython3",
   "version": "3.6.10"
  }
 },
 "nbformat": 4,
 "nbformat_minor": 4
}
