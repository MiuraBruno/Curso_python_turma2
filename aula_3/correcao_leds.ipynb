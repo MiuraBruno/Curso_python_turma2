{
 "cells": [
  {
   "cell_type": "code",
   "execution_count": 1,
   "metadata": {},
   "outputs": [],
   "source": [
    "#https://www.urionlinejudge.com.br/judge/pt/problems/view/1168"
   ]
  },
  {
   "cell_type": "code",
   "execution_count": 2,
   "metadata": {},
   "outputs": [],
   "source": [
    "#resolução do exercício do URI N 1168 usando dicionários"
   ]
  },
  {
   "cell_type": "code",
   "execution_count": 12,
   "metadata": {},
   "outputs": [],
   "source": [
    "d = {1 : 'asdjans', 2: 1}"
   ]
  },
  {
   "cell_type": "code",
   "execution_count": 14,
   "metadata": {},
   "outputs": [
    {
     "data": {
      "text/plain": [
       "1"
      ]
     },
     "execution_count": 14,
     "metadata": {},
     "output_type": "execute_result"
    }
   ],
   "source": [
    "d[2]"
   ]
  },
  {
   "cell_type": "code",
   "execution_count": 16,
   "metadata": {},
   "outputs": [],
   "source": [
    "leds = {'1':2\n",
    "        ,'2':5\n",
    "        ,'3':5\n",
    "        ,'4':4\n",
    "        ,'5':5\n",
    "        ,'6':6\n",
    "        ,'7':3\n",
    "        ,'8':7\n",
    "        ,'9':6\n",
    "        ,'0':6\n",
    "       }"
   ]
  },
  {
   "cell_type": "code",
   "execution_count": 18,
   "metadata": {},
   "outputs": [
    {
     "name": "stdout",
     "output_type": "stream",
     "text": [
      "3\n",
      "115380\n",
      "27 leds\n",
      "2819311\n",
      "29 leds\n",
      "23456\n",
      "25 leds\n"
     ]
    }
   ],
   "source": [
    "leds = {'1':2\n",
    "        ,'2':5\n",
    "        ,'3':5\n",
    "        ,'4':4\n",
    "        ,'5':5\n",
    "        ,'6':6\n",
    "        ,'7':3\n",
    "        ,'8':7\n",
    "        ,'9':6\n",
    "        ,'0':6\n",
    "       }\n",
    "qtd = int(input())\n",
    "for i in range(qtd):\n",
    "    numero = input()\n",
    "    total = 0\n",
    "    for j in numero:\n",
    "        total = total + leds[j]\n",
    "    print('%d leds' %(total))"
   ]
  },
  {
   "cell_type": "code",
   "execution_count": null,
   "metadata": {},
   "outputs": [],
   "source": []
  }
 ],
 "metadata": {
  "kernelspec": {
   "display_name": "Python 3",
   "language": "python",
   "name": "python3"
  },
  "language_info": {
   "codemirror_mode": {
    "name": "ipython",
    "version": 3
   },
   "file_extension": ".py",
   "mimetype": "text/x-python",
   "name": "python",
   "nbconvert_exporter": "python",
   "pygments_lexer": "ipython3",
   "version": "3.6.10"
  }
 },
 "nbformat": 4,
 "nbformat_minor": 4
}
