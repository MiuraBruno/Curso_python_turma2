{
 "cells": [
  {
   "cell_type": "code",
   "execution_count": 20,
   "metadata": {},
   "outputs": [],
   "source": [
    "import numpy as np"
   ]
  },
  {
   "cell_type": "code",
   "execution_count": 21,
   "metadata": {},
   "outputs": [],
   "source": [
    "from configparser import ConfigParser"
   ]
  },
  {
   "cell_type": "code",
   "execution_count": 22,
   "metadata": {},
   "outputs": [],
   "source": [
    "opcoes = ConfigParser()\n",
    "_ = opcoes.read('config/opcoes.ini')"
   ]
  },
  {
   "cell_type": "code",
   "execution_count": 23,
   "metadata": {},
   "outputs": [],
   "source": [
    "origem = opcoes.get('arquivos','origem')\n",
    "destino = opcoes.get('arquivos','destino')\n",
    "arq_final = opcoes.get('arquivos','arq_final')\n",
    "sep = opcoes.get('arquivos','separador')"
   ]
  },
  {
   "cell_type": "code",
   "execution_count": null,
   "metadata": {},
   "outputs": [],
   "source": []
  },
  {
   "cell_type": "code",
   "execution_count": 24,
   "metadata": {},
   "outputs": [],
   "source": [
    "especies = {}\n",
    "#lendo o arquivo\n",
    "with open(origem,'r') as f:\n",
    "    conteudo = f.readlines()\n",
    "    for indice,linha in enumerate(conteudo):\n",
    "        \n",
    "        #separando o cabecalho\n",
    "        if indice == 0:\n",
    "            cabecalho = linha.upper().replace('\\n','').split(';')\n",
    "            \n",
    "        #colocando num dicionário as linhas como valor e a especie como chave\n",
    "        else:\n",
    "            dados = linha.upper().replace('\\n','').split(';')\n",
    "            if dados[-1] not in especies:\n",
    "                especies[dados[-1]] = []\n",
    "            valores = list(map(lambda x: float(x), dados[:-1]))\n",
    "            especies[dados[-1]] = especies[dados[-1]] + valores"
   ]
  },
  {
   "cell_type": "code",
   "execution_count": 25,
   "metadata": {},
   "outputs": [
    {
     "name": "stdout",
     "output_type": "stream",
     "text": [
      "arquivo SETOSA gravado com SUCESSO\n",
      "arquivo VERSICOLOR gravado com SUCESSO\n",
      "arquivo VIRGINICA gravado com SUCESSO\n",
      "Fim do código\n"
     ]
    }
   ],
   "source": [
    "cada_especie  = especies.keys()\n",
    "colunas = len(cabecalho) - 1\n",
    "geral = open(destino + arq_final ,'w+')\n",
    "geral.write(sep.join(cabecalho[1:]))\n",
    "for i in cada_especie:\n",
    "    f = open(destino + i + '.csv', 'w+')\n",
    "    linhas = len(especies[i])/ colunas\n",
    "    especies[i] = np.array(especies[i]).reshape(int(linhas),int(colunas))\n",
    "    resultado = especies[i].mean(axis=0)[1:]\n",
    "    f.write(sep.join(cabecalho[1:-1]) + '\\n')\n",
    "    f.write(sep.join(list(map(lambda x: str(round(x,2)) ,resultado))))\n",
    "    f.close()\n",
    "    geral.write(sep.join(list(map(lambda x: str(round(x,2)) ,resultado))) + '|' + i + '\\n')\n",
    "    print('arquivo %s gravado com SUCESSO' %(i))    \n",
    "geral.close()\n",
    "print('Fim do código')\n",
    "    "
   ]
  },
  {
   "cell_type": "code",
   "execution_count": null,
   "metadata": {},
   "outputs": [],
   "source": []
  },
  {
   "cell_type": "code",
   "execution_count": null,
   "metadata": {},
   "outputs": [],
   "source": [
    "for i in cada_especie:\n",
    "    linhas = len(especies[i])/ colunas\n",
    "    especies[i] = np.array(especies[i]).reshape(int(linhas),int(colunas))\n",
    "    "
   ]
  },
  {
   "cell_type": "code",
   "execution_count": null,
   "metadata": {},
   "outputs": [],
   "source": [
    "especies['SETOSA']"
   ]
  },
  {
   "cell_type": "code",
   "execution_count": null,
   "metadata": {},
   "outputs": [],
   "source": [
    "for i in cada_especie:\n",
    "    print('esta é a média para a espécie %s' %(i))\n",
    "    resultado = especies[i].mean(axis=0)[1:]\n",
    "    print(\"|\".join(list(map(lambda x: str(round(x,2)) ,resultado))))\n",
    "    print('-'*30)"
   ]
  },
  {
   "cell_type": "code",
   "execution_count": null,
   "metadata": {},
   "outputs": [],
   "source": []
  }
 ],
 "metadata": {
  "kernelspec": {
   "display_name": "Python 3",
   "language": "python",
   "name": "python3"
  },
  "language_info": {
   "codemirror_mode": {
    "name": "ipython",
    "version": 3
   },
   "file_extension": ".py",
   "mimetype": "text/x-python",
   "name": "python",
   "nbconvert_exporter": "python",
   "pygments_lexer": "ipython3",
   "version": "3.6.10"
  }
 },
 "nbformat": 4,
 "nbformat_minor": 4
}
